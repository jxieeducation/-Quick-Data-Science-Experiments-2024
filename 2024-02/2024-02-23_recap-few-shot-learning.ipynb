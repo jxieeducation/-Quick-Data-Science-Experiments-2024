{
 "cells": [
  {
   "cell_type": "markdown",
   "id": "35686c1e",
   "metadata": {},
   "source": [
    "**few shot the n-shot refers to how many samples are shown**\n",
    "* example: we show 1 reference set only - so it's 1-shot learning\n",
    "* we do transfer learning by taking existing network outputs to use on a whole new set of classes"
   ]
  },
  {
   "cell_type": "markdown",
   "id": "6be285a4",
   "metadata": {},
   "source": [
    "* siamese networks: predict 0 when network joins outputs from different classes, predict 1 when same\n",
    "* example: 6way 1shot prediction\n",
    "* triplet loss - combines 2 same and 1 diff into same loss \n",
    "    * if d- >= d+ + margin, then no loss\n",
    "    * otherwise loss = d+ + margin - d-"
   ]
  },
  {
   "cell_type": "markdown",
   "id": "2df7a383",
   "metadata": {},
   "source": [
    "* basic idea:\n",
    "    * train a siamese network on a **large scale** dataset\n",
    "    * given a support set of k-way n-shot \n",
    "    * given a query, use siamese net to compute distances\n",
    "    * optimize using triplet loss"
   ]
  },
  {
   "cell_type": "markdown",
   "id": "60dc872b",
   "metadata": {},
   "source": []
  }
 ],
 "metadata": {
  "kernelspec": {
   "display_name": "Python 3",
   "language": "python",
   "name": "python3"
  },
  "language_info": {
   "codemirror_mode": {
    "name": "ipython",
    "version": 3
   },
   "file_extension": ".py",
   "mimetype": "text/x-python",
   "name": "python",
   "nbconvert_exporter": "python",
   "pygments_lexer": "ipython3",
   "version": "3.9.7"
  }
 },
 "nbformat": 4,
 "nbformat_minor": 5
}
