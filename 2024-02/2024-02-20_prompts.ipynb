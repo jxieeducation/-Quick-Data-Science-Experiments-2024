{
 "cells": [
  {
   "cell_type": "markdown",
   "id": "f1911e0b",
   "metadata": {},
   "source": [
    "#### techniques for improving prompts:\n",
    "* adding constraints\n",
    "* using seed text\n",
    "* using more specific words\n",
    "* structuring"
   ]
  },
  {
   "cell_type": "markdown",
   "id": "6f2b6c83",
   "metadata": {},
   "source": [
    "#### beam search\n",
    "* iterative, sample and pruning outliers"
   ]
  },
  {
   "cell_type": "markdown",
   "id": "53fa3bb3",
   "metadata": {},
   "source": [
    "#### Nucleaus sampling\n",
    "* threshold for probability of response"
   ]
  },
  {
   "cell_type": "markdown",
   "id": "71dec227",
   "metadata": {},
   "source": []
  },
  {
   "cell_type": "markdown",
   "id": "8097dc85",
   "metadata": {},
   "source": []
  }
 ],
 "metadata": {
  "kernelspec": {
   "display_name": "Python 3",
   "language": "python",
   "name": "python3"
  },
  "language_info": {
   "codemirror_mode": {
    "name": "ipython",
    "version": 3
   },
   "file_extension": ".py",
   "mimetype": "text/x-python",
   "name": "python",
   "nbconvert_exporter": "python",
   "pygments_lexer": "ipython3",
   "version": "3.9.7"
  }
 },
 "nbformat": 4,
 "nbformat_minor": 5
}
