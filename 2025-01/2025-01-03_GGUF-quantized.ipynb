{
 "cells": [
  {
   "cell_type": "markdown",
   "id": "cb889d7c-4219-4d81-89a9-0f62f9256c52",
   "metadata": {},
   "source": [
    "https://www.shepbryan.com/blog/what-is-gguf"
   ]
  },
  {
   "cell_type": "markdown",
   "id": "e9b49fa5-c358-465f-93f9-05a3ec0b3b9b",
   "metadata": {},
   "source": [
    "* built after the model llama.cpp impl for c++ optimization\n",
    "* quantized - better for cloud deployment or local deployment\n",
    "* typically come in quantization levels from Q2 to Q8, with some special variants like Q3_K_M and Q5_K_M.\n",
    "* Ollama allows users to easily switch between different quant levels of the same model\n",
    "\n"
   ]
  },
  {
   "cell_type": "markdown",
   "id": "ce1dd142-67f4-4c2e-a960-bcc7ea6f1446",
   "metadata": {},
   "source": [
    "```ollama run phi3:mini \"why is this not working\"```"
   ]
  },
  {
   "cell_type": "markdown",
   "id": "44f0305b-cddd-468e-8458-4ac4cdaa0499",
   "metadata": {},
   "source": []
  },
  {
   "cell_type": "markdown",
   "id": "3970edf4-1617-4e1b-a557-64bb6158c606",
   "metadata": {},
   "source": []
  }
 ],
 "metadata": {
  "kernelspec": {
   "display_name": "Python 3 (ipykernel)",
   "language": "python",
   "name": "python3"
  },
  "language_info": {
   "codemirror_mode": {
    "name": "ipython",
    "version": 3
   },
   "file_extension": ".py",
   "mimetype": "text/x-python",
   "name": "python",
   "nbconvert_exporter": "python",
   "pygments_lexer": "ipython3",
   "version": "3.12.4"
  }
 },
 "nbformat": 4,
 "nbformat_minor": 5
}
