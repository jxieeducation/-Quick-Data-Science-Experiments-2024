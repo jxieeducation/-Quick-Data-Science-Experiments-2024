{
 "cells": [
  {
   "cell_type": "markdown",
   "id": "ba0e5596",
   "metadata": {},
   "source": [
    "text: https://bratanic-tomaz.medium.com/constructing-knowledge-graphs-from-text-using-openai-functions-096a6d010c17"
   ]
  },
  {
   "cell_type": "markdown",
   "id": "d94f55bc",
   "metadata": {},
   "source": [
    "* input data -> co-reference resolution -> NER -> relationship extraction -> knowledge graph\n",
    "* ask GPT to construct / populate in Neo4j\n",
    "* Cypher to query graph dbs"
   ]
  },
  {
   "cell_type": "code",
   "execution_count": 2,
   "id": "089a194b",
   "metadata": {},
   "outputs": [],
   "source": [
    "# def get_extraction_chain(\n",
    "#     allowed_nodes: Optional[List[str]] = None,\n",
    "#     allowed_rels: Optional[List[str]] = None\n",
    "#     ):\n",
    "#     prompt = ChatPromptTemplate.from_messages(\n",
    "#     [(\n",
    "#       \"system\",\n",
    "#       f\"\"\"# Knowledge Graph Instructions for GPT-4\n",
    "# ## 1. Overview\n",
    "# You are a top-tier algorithm designed for extracting information in structured formats to build a knowledge graph.\n",
    "# - **Nodes** represent entities and concepts. They're akin to Wikipedia nodes.\n",
    "# - The aim is to achieve simplicity and clarity in the knowledge graph, making it accessible for a vast audience.\n",
    "# ## 2. Labeling Nodes\n",
    "# - **Consistency**: Ensure you use basic or elementary types for node labels.\n",
    "#   - For example, when you identify an entity representing a person, always label it as **\"person\"**. Avoid using more specific terms like \"mathematician\" or \"scientist\".\n",
    "# - **Node IDs**: Never utilize integers as node IDs. Node IDs should be names or human-readable identifiers found in the text.\n",
    "# {'- **Allowed Node Labels:**' + \", \".join(allowed_nodes) if allowed_nodes else \"\"}\n",
    "# {'- **Allowed Relationship Types**:' + \", \".join(allowed_rels) if allowed_rels else \"\"}\n",
    "# ## 3. Handling Numerical Data and Dates\n",
    "# - Numerical data, like age or other related information, should be incorporated as attributes or properties of the respective nodes.\n",
    "# - **No Separate Nodes for Dates/Numbers**: Do not create separate nodes for dates or numerical values. Always attach them as attributes or properties of nodes.\n",
    "# - **Property Format**: Properties must be in a key-value format.\n",
    "# - **Quotation Marks**: Never use escaped single or double quotes within property values.\n",
    "# - **Naming Convention**: Use camelCase for property keys, e.g., `birthDate`.\n",
    "# ## 4. Coreference Resolution\n",
    "# - **Maintain Entity Consistency**: When extracting entities, it's vital to ensure consistency.\n",
    "# If an entity, such as \"John Doe\", is mentioned multiple times in the text but is referred to by different names or pronouns (e.g., \"Joe\", \"he\"), \n",
    "# always use the most complete identifier for that entity throughout the knowledge graph. In this example, use \"John Doe\" as the entity ID.  \n",
    "# Remember, the knowledge graph should be coherent and easily understandable, so maintaining consistency in entity references is crucial. \n",
    "# ## 5. Strict Compliance\n",
    "# Adhere to the rules strictly. Non-compliance will result in termination.\"\"\"),\n",
    "#         (\"human\", \"Use the given format to extract information from the following input: {input}\"),\n",
    "#         (\"human\", \"Tip: Make sure to answer in the correct format\"),\n",
    "#     ])\n",
    "#     return create_structured_output_chain(KnowledgeGraph, llm, prompt, verbose=False)"
   ]
  },
  {
   "cell_type": "markdown",
   "id": "9e1d407d",
   "metadata": {},
   "source": [
    "* Knowledge graphs are a great fit when you need a combination of structured and structured data to power your RAG applications.\n",
    "* To have a great experience constructing graphs with LLMs, make sure to define the graph schema as detailed as possible and make sure you add an entity disambiguation step after the extraction."
   ]
  },
  {
   "cell_type": "code",
   "execution_count": null,
   "id": "702e130d",
   "metadata": {},
   "outputs": [],
   "source": []
  }
 ],
 "metadata": {
  "kernelspec": {
   "display_name": "Python 3",
   "language": "python",
   "name": "python3"
  },
  "language_info": {
   "codemirror_mode": {
    "name": "ipython",
    "version": 3
   },
   "file_extension": ".py",
   "mimetype": "text/x-python",
   "name": "python",
   "nbconvert_exporter": "python",
   "pygments_lexer": "ipython3",
   "version": "3.9.7"
  }
 },
 "nbformat": 4,
 "nbformat_minor": 5
}
