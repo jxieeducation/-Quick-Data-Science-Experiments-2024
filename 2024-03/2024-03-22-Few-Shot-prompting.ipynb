{
 "cells": [
  {
   "cell_type": "markdown",
   "id": "71ef291b",
   "metadata": {},
   "source": [
    "### https://neptune.ai/blog/zero-shot-and-few-shot-learning-with-llms\n",
    "* not same as few shot learning\n",
    "* in prompt, show examples of good examples and bad exampels\n",
    "* examples of when to use\n",
    "    * adapting to task of a certain style\n",
    "    * teaching llm new concepts or imaginary concepts"
   ]
  },
  {
   "cell_type": "code",
   "execution_count": null,
   "id": "009f6478",
   "metadata": {},
   "outputs": [],
   "source": []
  }
 ],
 "metadata": {
  "kernelspec": {
   "display_name": "Python 3",
   "language": "python",
   "name": "python3"
  },
  "language_info": {
   "codemirror_mode": {
    "name": "ipython",
    "version": 3
   },
   "file_extension": ".py",
   "mimetype": "text/x-python",
   "name": "python",
   "nbconvert_exporter": "python",
   "pygments_lexer": "ipython3",
   "version": "3.9.7"
  }
 },
 "nbformat": 4,
 "nbformat_minor": 5
}
