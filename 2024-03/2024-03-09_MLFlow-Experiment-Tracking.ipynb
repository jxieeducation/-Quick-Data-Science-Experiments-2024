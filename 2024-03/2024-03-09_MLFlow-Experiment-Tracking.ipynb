{
 "cells": [
  {
   "cell_type": "markdown",
   "id": "27506b85",
   "metadata": {},
   "source": [
    "https://mlflow.org/docs/latest/getting-started/logging-first-model/step4-experiment-search.html"
   ]
  },
  {
   "cell_type": "markdown",
   "id": "e756785e",
   "metadata": {},
   "source": [
    "### features:\n",
    "* tracking experiments\n",
    "* searching experiments\n",
    "* dataset creation"
   ]
  },
  {
   "cell_type": "code",
   "execution_count": null,
   "id": "a568bfde",
   "metadata": {},
   "outputs": [],
   "source": []
  }
 ],
 "metadata": {
  "kernelspec": {
   "display_name": "Python 3",
   "language": "python",
   "name": "python3"
  },
  "language_info": {
   "codemirror_mode": {
    "name": "ipython",
    "version": 3
   },
   "file_extension": ".py",
   "mimetype": "text/x-python",
   "name": "python",
   "nbconvert_exporter": "python",
   "pygments_lexer": "ipython3",
   "version": "3.9.7"
  }
 },
 "nbformat": 4,
 "nbformat_minor": 5
}
