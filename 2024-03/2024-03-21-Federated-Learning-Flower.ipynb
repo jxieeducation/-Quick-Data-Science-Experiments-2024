{
 "cells": [
  {
   "cell_type": "markdown",
   "id": "68ec1c7c",
   "metadata": {},
   "source": [
    "### https://flower.ai/docs/framework/tutorial-quickstart-pytorch.html"
   ]
  },
  {
   "cell_type": "markdown",
   "id": "1cb6eb74",
   "metadata": {},
   "source": [
    "* set param\n",
    "    * weight dictionary\n",
    "* client and server\n",
    "    * client updates weights\n",
    "    * server centralizes the weights\n",
    "        * strategies include FedAvg -- https://arxiv.org/pdf/2305.07845.pdf"
   ]
  },
  {
   "cell_type": "markdown",
   "id": "fcf6f2c6",
   "metadata": {},
   "source": []
  }
 ],
 "metadata": {
  "kernelspec": {
   "display_name": "Python 3",
   "language": "python",
   "name": "python3"
  },
  "language_info": {
   "codemirror_mode": {
    "name": "ipython",
    "version": 3
   },
   "file_extension": ".py",
   "mimetype": "text/x-python",
   "name": "python",
   "nbconvert_exporter": "python",
   "pygments_lexer": "ipython3",
   "version": "3.9.7"
  }
 },
 "nbformat": 4,
 "nbformat_minor": 5
}
