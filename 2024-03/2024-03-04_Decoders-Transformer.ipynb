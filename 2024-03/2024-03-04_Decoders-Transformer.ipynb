{
 "cells": [
  {
   "cell_type": "markdown",
   "id": "a3dcc53d",
   "metadata": {},
   "source": [
    "https://cameronrwolfe.substack.com/p/decoder-only-transformers-the-workhorse"
   ]
  },
  {
   "cell_type": "markdown",
   "id": "90e89ae4",
   "metadata": {},
   "source": [
    "### Notes\n",
    "* 3 linear projections into Q + K + V\n",
    "* Q * K^T --> T by T attention matrix -> softmax -> attention scores"
   ]
  },
  {
   "cell_type": "markdown",
   "id": "3df83fb8",
   "metadata": {},
   "source": [
    "* masked self-attention - only allow chars that have come before\n",
    "* attention heads - to prevent softmax 1 or 2 words from dominating everything\n",
    "* multiheaded attention\n",
    "    * separate k, q and v for each i in h heads\n",
    "    * attention focuses on a subspace\n",
    "    * combining multiple heads: concat, avg, project"
   ]
  },
  {
   "cell_type": "markdown",
   "id": "777d26e4",
   "metadata": {},
   "source": [
    "* how to address vanishing gradient? \n",
    "    * Better methods of initializing weights (e.g., Xavier or He initialization).\n",
    "    * Replacing sigmoid activation functions with ReLU (i.e., this keeps gradients in the activation function from becoming very small).\n",
    "    * Normalizing intermediate neural network activations\n",
    "        * batch norm\n",
    "        * layer norm\n",
    "\n"
   ]
  },
  {
   "cell_type": "code",
   "execution_count": null,
   "id": "e7c61b3c",
   "metadata": {},
   "outputs": [],
   "source": []
  }
 ],
 "metadata": {
  "kernelspec": {
   "display_name": "Python 3",
   "language": "python",
   "name": "python3"
  },
  "language_info": {
   "codemirror_mode": {
    "name": "ipython",
    "version": 3
   },
   "file_extension": ".py",
   "mimetype": "text/x-python",
   "name": "python",
   "nbconvert_exporter": "python",
   "pygments_lexer": "ipython3",
   "version": "3.9.7"
  }
 },
 "nbformat": 4,
 "nbformat_minor": 5
}
