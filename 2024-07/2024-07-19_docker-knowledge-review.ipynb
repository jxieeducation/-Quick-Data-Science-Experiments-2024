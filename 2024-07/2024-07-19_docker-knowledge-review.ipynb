{
 "cells": [
  {
   "cell_type": "code",
   "execution_count": 1,
   "id": "491dcba9-6418-4acd-8d8d-2a467fdd3e92",
   "metadata": {},
   "outputs": [
    {
     "name": "stdout",
     "output_type": "stream",
     "text": [
      "05755f63b19b5fb11cc789ad108ab12668f316f24df9afe5d32b263f7bb893ad\n",
      "docker: Error response from daemon: driver failed programming external connectivity on endpoint relaxed_jepsen (046e9740e183a03db69d0344ad64159ad9d04d7ad150e7d1170c1c29d7fc678f): Bind for 0.0.0.0:80 failed: port is already allocated.\n"
     ]
    }
   ],
   "source": [
    "!docker run -dp 80:80 docker/getting-started"
   ]
  },
  {
   "cell_type": "markdown",
   "id": "c99ce92d-aac4-4d0d-a65d-f264aa8eabb8",
   "metadata": {},
   "source": [
    "* detached\n",
    "* port 80 maps to 80\n"
   ]
  },
  {
   "cell_type": "markdown",
   "id": "c0fca92f-f9c0-4607-a93e-3fd9027dac90",
   "metadata": {},
   "source": [
    "* docker build -t getting-started . ## tags the build\n",
    "* docker ps\n",
    "* docker rm c08957016dd3\n",
    "* docker run -dp 3000:3000 getting-started"
   ]
  },
  {
   "cell_type": "code",
   "execution_count": null,
   "id": "177687da-22f1-415f-b131-ebe8196c2786",
   "metadata": {},
   "outputs": [],
   "source": []
  }
 ],
 "metadata": {
  "kernelspec": {
   "display_name": "Python 3 (ipykernel)",
   "language": "python",
   "name": "python3"
  },
  "language_info": {
   "codemirror_mode": {
    "name": "ipython",
    "version": 3
   },
   "file_extension": ".py",
   "mimetype": "text/x-python",
   "name": "python",
   "nbconvert_exporter": "python",
   "pygments_lexer": "ipython3",
   "version": "3.12.4"
  }
 },
 "nbformat": 4,
 "nbformat_minor": 5
}
