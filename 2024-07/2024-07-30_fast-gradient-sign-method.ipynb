{
 "cells": [
  {
   "cell_type": "markdown",
   "id": "6d24648f-298c-4c78-b526-c4721f5ed3cd",
   "metadata": {},
   "source": [
    "https://medium.com/@zachariaharungeorge/a-deep-dive-into-the-fast-gradient-sign-method-611826e34865"
   ]
  },
  {
   "cell_type": "markdown",
   "id": "0c5b12c6-79c7-4228-ab42-e632122ccaec",
   "metadata": {},
   "source": [
    "* Fast Gradient Sign Method (FGSM) is popular in adversarial machine learning\n",
    "* Generating the Adversarial Example: The perturbation δ is calculated by taking the sign of the gradient. i.e. δ = ϵ⋅sign(∇ₓJ(θ,x,y)), where ϵ is the constant controlling the magnitude of the perturbation.\n",
    "* crafted to maximize the loss, causing misclassification while ensuring the perturbation is small enough to remain imperceptible"
   ]
  },
  {
   "cell_type": "markdown",
   "id": "0f8a029e-22c1-4670-9522-670fe6f26f8e",
   "metadata": {},
   "source": []
  },
  {
   "cell_type": "code",
   "execution_count": 2,
   "id": "b3360f9b-0327-44a3-bcfa-e9ba562399a2",
   "metadata": {},
   "outputs": [],
   "source": [
    "def generate_adversarial_example(model, image, label, epsilon):\n",
    "    # 1. Computing the Gradient\n",
    "    image.requires_grad = True\n",
    "    output = model(image)\n",
    "    loss = nn.CrossEntropyLoss()(output, torch.tensor([label]))\n",
    "\n",
    "    model.zero_grad()\n",
    "    loss.backward()\n",
    "\n",
    "    # 2. Generating the Adversarial Example\n",
    "    perturbation = epsilon * torch.sign(image.grad)\n",
    "    \n",
    "    # 3. Updating the Input\n",
    "    adversarial_image = image + perturbation\n",
    "    return adversarial_image.detach()"
   ]
  },
  {
   "cell_type": "code",
   "execution_count": null,
   "id": "fee40f55-3228-49d4-8697-d589ec047cf1",
   "metadata": {},
   "outputs": [],
   "source": []
  }
 ],
 "metadata": {
  "kernelspec": {
   "display_name": "Python 3 (ipykernel)",
   "language": "python",
   "name": "python3"
  },
  "language_info": {
   "codemirror_mode": {
    "name": "ipython",
    "version": 3
   },
   "file_extension": ".py",
   "mimetype": "text/x-python",
   "name": "python",
   "nbconvert_exporter": "python",
   "pygments_lexer": "ipython3",
   "version": "3.12.4"
  }
 },
 "nbformat": 4,
 "nbformat_minor": 5
}
