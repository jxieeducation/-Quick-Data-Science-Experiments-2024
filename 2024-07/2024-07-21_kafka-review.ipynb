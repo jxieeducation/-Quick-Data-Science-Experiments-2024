{
 "cells": [
  {
   "cell_type": "markdown",
   "id": "c6572f0a-0627-4858-ab33-286f8154a311",
   "metadata": {},
   "source": [
    "https://www.youtube.com/watch?v=DU8o-OTeoCc&ab_channel=HelloInterview-TechInterviewPreparation"
   ]
  },
  {
   "cell_type": "markdown",
   "id": "f14d602b-fa9d-4a59-8777-e5db5a49db7d",
   "metadata": {},
   "source": [
    "### properties:\n",
    "* Scale horizontally\n",
    "* partition (events are in order by partition)\n",
    "* consumer groups (each event is processed by one consumer in the consumer group) @TODO\n",
    "* topics"
   ]
  },
  {
   "cell_type": "markdown",
   "id": "0d083330-5a36-46c5-a787-2d7fcc6bdb74",
   "metadata": {},
   "source": [
    "### Terminology:\n",
    "* broker: servers that hold the queue \n",
    "* partition: ordered, immutable, sequence of messages\n",
    "* topic: logical grouping of partitions --> partition is physical; topic = multiple partitions\n",
    "* producers / consumers"
   ]
  },
  {
   "cell_type": "markdown",
   "id": "9f022586-3e92-4b80-a4f1-4a24f91ca85d",
   "metadata": {},
   "source": [
    "### Life cycle\n",
    "* producer create and publish a message\n",
    "  * header, key, value, timestamp\n",
    "* publish msg to topic -> partition by key -> identify broker -> send to broker -> broker append msg to right partition\n",
    "* partition: offsets (0 -> 8..etc)\n",
    "  * consumers read msg based on offset\n",
    "  * consumer commits offset to kafka broker\n",
    "  * consumer can resume reading from last offset \n",
    "* "
   ]
  },
  {
   "cell_type": "markdown",
   "id": "5aaa1dfc-3876-46ee-af3d-967765c9a19b",
   "metadata": {},
   "source": [
    "### When to use kafka\n",
    "* any time you need a message queue\n",
    "  * in order message processing e,g. waiting queue\n",
    "  * decouple consumner and producer --> allow scaling independently\n",
    "* any time you need a stream\n",
    "  * e.g. client -> producer -> kafka (ad click stream) -> flink -> DB\n",
    "  * stream of messsages need to be processed by multiple consumers simultaneously e.g. messenger / video live comments"
   ]
  },
  {
   "cell_type": "markdown",
   "id": "76e2a46d-e158-4f47-bf6a-63a5126cbdb8",
   "metadata": {},
   "source": [
    "### Deep Dives\n",
    "* properties:\n",
    "  * scalability\n",
    "  * fault tolerance & durability\n",
    "  * errors and retries\n",
    "  * performance optimization\n",
    "  * retention policy\n",
    "* how to scale?\n",
    "  * more brokers\n",
    "  * good partition key. How? \n",
    "    * remove the key?\n",
    "    * compound key\n",
    "    * backpressure - slow down producer \n",
    "* what happens when consumer goes down?\n",
    "  * just read the latest offset\n",
    "  * if a consumer group, rebalance\n",
    "* perforamnce optimization\n",
    "  * batch msg in producer (kafka setting)\n",
    "  * compress msg in producer (kafka setting, e.g. gzip)\n",
    "* retention policy\n",
    "  * by time ms e.g. 7 days\n",
    "  * by size e.g. 16gb"
   ]
  },
  {
   "cell_type": "code",
   "execution_count": null,
   "id": "56f9db95-5443-474c-a7e9-4537b0e1083a",
   "metadata": {},
   "outputs": [],
   "source": []
  },
  {
   "cell_type": "code",
   "execution_count": null,
   "id": "79d14614-a31c-420e-8d24-189935fa87ff",
   "metadata": {},
   "outputs": [],
   "source": []
  }
 ],
 "metadata": {
  "kernelspec": {
   "display_name": "Python 3 (ipykernel)",
   "language": "python",
   "name": "python3"
  },
  "language_info": {
   "codemirror_mode": {
    "name": "ipython",
    "version": 3
   },
   "file_extension": ".py",
   "mimetype": "text/x-python",
   "name": "python",
   "nbconvert_exporter": "python",
   "pygments_lexer": "ipython3",
   "version": "3.12.3"
  }
 },
 "nbformat": 4,
 "nbformat_minor": 5
}
