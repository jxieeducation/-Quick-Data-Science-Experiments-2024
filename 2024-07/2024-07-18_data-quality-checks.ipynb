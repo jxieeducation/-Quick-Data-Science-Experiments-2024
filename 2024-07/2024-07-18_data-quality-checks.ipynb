{
 "cells": [
  {
   "cell_type": "markdown",
   "id": "88cc67ce-1cc0-4066-8518-1fbed38f614e",
   "metadata": {},
   "source": [
    "https://www.startdataengineering.com/post/types-of-dq-checks/"
   ]
  },
  {
   "cell_type": "markdown",
   "id": "14dd15ce-23df-4a6f-8076-73a37896750e",
   "metadata": {},
   "source": [
    "### Data Quality (DQ) Checks in Pipeline\n",
    "Three main points for DQ checks: Output, Input, and Mid-pipeline.\n",
    "\n",
    "### Output DQ Checks\n",
    "* Ensure consumers receive correct data.\n",
    "* Table constraint checks: Null values, uniqueness, completeness, permissible ranges.\n",
    "* Business rules: Business-specific data expectations.\n",
    "* Table schema checks: Consistency of column names and types.\n",
    "* Metric variance checks: Key metrics remain within historical ranges.\n",
    "* Row count distribution checks: Consistency in row numbers across runs.\n",
    "* Reconciliation checks: Row count consistency between input and output data.\n",
    "\n",
    "### Input DQ Checks\n",
    "* Catch issues from unreliable data sources early.\n",
    "* Table constraint checks: Similar to output checks.\n",
    "* Table schema checks: Verify expected data types and columns.\n",
    "* Referential integrity checks: Ensure joins work as expected.\n",
    "* Row count distribution checks: Consistency in input row numbers.\n",
    "\n",
    "### Mid-pipeline DQ Checks\n",
    "Useful for complex pipelines with multiple transformation layers.\n",
    "Identify issues quickly and re-run specific transformation steps.\n",
    "\n",
    "### Audit Logs\n",
    "Track incoming and outgoing row counts for each task. Aid in root-cause analysis and identifying count-distorting issues.\n",
    "\n",
    "### Background Data Monitoring Job\n",
    "Separate jobs monitoring the state of data, running at regular intervals.\n",
    "\n",
    "### Data Freshness\n",
    "Ensuring data is as recent as required.\n",
    "Calculated as current time minus max(datetime_inserted).\n",
    "\n",
    "### Metrics to Monitor\n",
    "Same types of checks as output DQ checks.\n",
    "Monitor specific fields without stopping the pipeline.\n",
    "\n",
    "### Data Quality Tools\n",
    "Great Expectations: Detailed results, multiple backends, but complex setup.\n",
    "dbt tests, dbt expectations, & elementary: Easy setup, expensive to run, less detailed.\n",
    "Cuallee: Easy setup, fast, detailed results, but no result logging."
   ]
  },
  {
   "cell_type": "markdown",
   "id": "b013e93b-ff49-4971-a8fc-9db359f4535c",
   "metadata": {},
   "source": []
  },
  {
   "cell_type": "markdown",
   "id": "9163fbfe-1a39-4d36-ba2d-3c5e9e45a7e3",
   "metadata": {},
   "source": []
  }
 ],
 "metadata": {
  "kernelspec": {
   "display_name": "Python 3 (ipykernel)",
   "language": "python",
   "name": "python3"
  },
  "language_info": {
   "codemirror_mode": {
    "name": "ipython",
    "version": 3
   },
   "file_extension": ".py",
   "mimetype": "text/x-python",
   "name": "python",
   "nbconvert_exporter": "python",
   "pygments_lexer": "ipython3",
   "version": "3.12.4"
  }
 },
 "nbformat": 4,
 "nbformat_minor": 5
}
