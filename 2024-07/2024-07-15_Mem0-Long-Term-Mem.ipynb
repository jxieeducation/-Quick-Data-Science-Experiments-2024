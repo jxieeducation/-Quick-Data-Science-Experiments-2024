{
 "cells": [
  {
   "cell_type": "markdown",
   "id": "f71a7189-cae8-46ae-a77e-eaa8a671fd0f",
   "metadata": {},
   "source": [
    "https://docs.mem0.ai/overview"
   ]
  },
  {
   "cell_type": "markdown",
   "id": "4832b661-8617-4590-b32d-db1093ea66c1",
   "metadata": {},
   "source": [
    "### Notes\n",
    "* why long term mem and not RAG\n",
    "    * entity relationships\n",
    "    * recency, relevancy, decay\n",
    "    * adaptive learning - user feedback\n",
    "* "
   ]
  },
  {
   "cell_type": "code",
   "execution_count": 1,
   "id": "67384a43-4126-40f1-ac18-2b8e3fd34bee",
   "metadata": {},
   "outputs": [],
   "source": [
    "from mem0 import Memory\n",
    "m = Memory()"
   ]
  },
  {
   "cell_type": "code",
   "execution_count": 2,
   "id": "1d09daaa-dd0f-494f-8bd8-da9e02d4f156",
   "metadata": {},
   "outputs": [
    {
     "name": "stdout",
     "output_type": "stream",
     "text": [
      "[{'id': '4f5ccc37-c90d-4052-b774-323c39f9c3fe', 'event': 'add', 'data': 'Likes to play cricket and enjoys playing on weekends.'}]\n"
     ]
    }
   ],
   "source": [
    "result = m.add(\"Likes to play cricket on weekends\", user_id=\"alice\", metadata={\"category\": \"hobbies\"})\n",
    "print(result)"
   ]
  },
  {
   "cell_type": "code",
   "execution_count": 3,
   "id": "460e57c8-8e11-4a3b-a9b4-7c497ab2a6b5",
   "metadata": {},
   "outputs": [
    {
     "name": "stdout",
     "output_type": "stream",
     "text": [
      "[{'id': '4f5ccc37-c90d-4052-b774-323c39f9c3fe', 'text': 'Likes to play cricket and enjoys playing on weekends.', 'metadata': {'category': 'hobbies', 'user_id': 'alice', 'data': 'Likes to play cricket and enjoys playing on weekends.', 'created_at': 1721063810}}]\n"
     ]
    }
   ],
   "source": [
    "all_memories = m.get_all()\n",
    "print(all_memories)"
   ]
  },
  {
   "cell_type": "code",
   "execution_count": 4,
   "id": "03909130-87e7-4a58-8e0b-301392424ba4",
   "metadata": {},
   "outputs": [
    {
     "name": "stdout",
     "output_type": "stream",
     "text": [
      "None\n"
     ]
    }
   ],
   "source": [
    "specific_memory = m.get(\"jason\")\n",
    "print(specific_memory)"
   ]
  },
  {
   "cell_type": "code",
   "execution_count": 11,
   "id": "4d07b4fe-f6a1-4448-a44e-1d604f9bb09a",
   "metadata": {},
   "outputs": [
    {
     "name": "stdout",
     "output_type": "stream",
     "text": [
      "{'id': '4f5ccc37-c90d-4052-b774-323c39f9c3fe', 'text': 'Likes to play cricket and enjoys playing on weekends.', 'metadata': {'category': 'hobbies', 'user_id': 'alice', 'data': 'Likes to play cricket and enjoys playing on weekends.', 'created_at': 1721063810}}\n"
     ]
    }
   ],
   "source": [
    "specific_memory = m.get(\"4f5ccc37-c90d-4052-b774-323c39f9c3fe\") ## get by id\n",
    "print(specific_memory)"
   ]
  },
  {
   "cell_type": "code",
   "execution_count": 15,
   "id": "8ec01e35-3627-4ff1-916f-ea7c8c48aedc",
   "metadata": {},
   "outputs": [
    {
     "name": "stdout",
     "output_type": "stream",
     "text": [
      "[{'id': '4f5ccc37-c90d-4052-b774-323c39f9c3fe', 'text': 'Likes to play cricket and enjoys playing on weekends.', 'metadata': {'category': 'hobbies', 'user_id': 'alice', 'data': 'Likes to play cricket and enjoys playing on weekends.', 'created_at': 1721063810}, 'score': 0.3279731432162444}]\n"
     ]
    }
   ],
   "source": [
    "related_memories = m.search(query=\"What are Alice's hobbies?\", user_id=\"alice\") ## score 0.32\n",
    "print(related_memories)"
   ]
  },
  {
   "cell_type": "code",
   "execution_count": 16,
   "id": "eb6915e3-48b4-4f05-8e31-416922768bfb",
   "metadata": {},
   "outputs": [
    {
     "name": "stdout",
     "output_type": "stream",
     "text": [
      "[{'id': '4f5ccc37-c90d-4052-b774-323c39f9c3fe', 'text': 'Likes to play cricket and enjoys playing on weekends.', 'metadata': {'category': 'hobbies', 'user_id': 'alice', 'data': 'Likes to play cricket and enjoys playing on weekends.', 'created_at': 1721063810}, 'score': 0.3631167444179716}]\n"
     ]
    }
   ],
   "source": [
    "related_memories = m.search(query=\"hobbies?\", user_id=\"alice\") ## score 0.36\n",
    "print(related_memories)"
   ]
  },
  {
   "cell_type": "code",
   "execution_count": 18,
   "id": "42c42696-5ca1-4286-8266-f24ac4b1cd5f",
   "metadata": {},
   "outputs": [
    {
     "name": "stdout",
     "output_type": "stream",
     "text": [
      "[{'id': '4f5ccc37-c90d-4052-b774-323c39f9c3fe', 'text': 'Likes to play cricket and enjoys playing on weekends.', 'metadata': {'category': 'hobbies', 'user_id': 'alice', 'data': 'Likes to play cricket and enjoys playing on weekends.', 'created_at': 1721063810}, 'score': 0.10764581666317588}]\n"
     ]
    }
   ],
   "source": [
    "related_memories = m.search(query=\"python\", user_id=\"alice\") ## score 0.10\n",
    "print(related_memories)"
   ]
  },
  {
   "cell_type": "code",
   "execution_count": null,
   "id": "f0798813-9447-4f2a-bb0d-fed86dc39715",
   "metadata": {},
   "outputs": [],
   "source": []
  }
 ],
 "metadata": {
  "kernelspec": {
   "display_name": "Python 3 (ipykernel)",
   "language": "python",
   "name": "python3"
  },
  "language_info": {
   "codemirror_mode": {
    "name": "ipython",
    "version": 3
   },
   "file_extension": ".py",
   "mimetype": "text/x-python",
   "name": "python",
   "nbconvert_exporter": "python",
   "pygments_lexer": "ipython3",
   "version": "3.12.3"
  }
 },
 "nbformat": 4,
 "nbformat_minor": 5
}
