{
 "cells": [
  {
   "cell_type": "markdown",
   "id": "92f1b73a-14b9-41ef-a0c5-f3eecbcc96e2",
   "metadata": {},
   "source": [
    "### Why is FastText, fast? \n",
    "* https://www.analyticsvidhya.com/blog/2023/01/introduction-to-fasttext-embeddings-and-its-implication/#:~:text=FastText%20can%20provide%20better%20embeddings,it%20is%20faster%20than%20word2vec.\n",
    "    * supports character n-gram\n",
    "    * also uses CBOX and skipgram\n",
    "    * each word is represented as the average of the vector representation of its character n-grams along with the word itself\n",
    "    * can use hierarchical classifier which is computationally faster\n",
    "\n",
    "### Quick notes on hierarchical softmax\n",
    "* Uses a binary tree structure to represent the output classes.\n",
    "    * Tree structure, computes probabilities along paths\n",
    "* Each leaf node represents an output class, and internal nodes represent intermediate categories.\n",
    "* Instead of computing probabilities for all classes, it computes probabilities along a path in the tree.\n",
    "* Reduces time complexity from O(N) to O(log N), where N is the number of classes.\n"
   ]
  },
  {
   "cell_type": "code",
   "execution_count": 1,
   "id": "912d0094-113f-40fd-953c-b4f1b08fda7f",
   "metadata": {},
   "outputs": [],
   "source": [
    "import fasttext"
   ]
  },
  {
   "cell_type": "code",
   "execution_count": 3,
   "id": "d9050786-4666-4f2e-bff1-f944cdc5f27e",
   "metadata": {},
   "outputs": [
    {
     "name": "stderr",
     "output_type": "stream",
     "text": [
      "Read 0M words\n",
      "Number of words:  14543\n",
      "Number of labels: 735\n",
      "Progress: 100.0% words/sec/thread:   59482 lr:  0.000000 avg.loss: 10.207205 ETA:   0h 0m 0s\n"
     ]
    }
   ],
   "source": [
    "model = fasttext.train_supervised(input=\"../data/fasttext_cooking_data/cooking.train\")"
   ]
  },
  {
   "cell_type": "code",
   "execution_count": 4,
   "id": "ba53796d-fefa-451a-91cc-db8caad32dd0",
   "metadata": {},
   "outputs": [],
   "source": [
    "model.save_model(\"model_cooking.bin\")"
   ]
  },
  {
   "cell_type": "code",
   "execution_count": 5,
   "id": "9b951b48-b96d-413b-8b8e-8554a3028e98",
   "metadata": {},
   "outputs": [
    {
     "data": {
      "text/plain": [
       "(('__label__baking',), array([0.06549904]))"
      ]
     },
     "execution_count": 5,
     "metadata": {},
     "output_type": "execute_result"
    }
   ],
   "source": [
    "model.predict(\"Which baking dish is best to bake a banana bread ?\")"
   ]
  },
  {
   "cell_type": "code",
   "execution_count": 7,
   "id": "897dccd5-dcdd-4b69-8dac-cf994cc1af95",
   "metadata": {},
   "outputs": [
    {
     "data": {
      "text/plain": [
       "(3000, 0.12233333333333334, 0.052904713853250684)"
      ]
     },
     "execution_count": 7,
     "metadata": {},
     "output_type": "execute_result"
    }
   ],
   "source": [
    "model.test(\"../data/fasttext_cooking_data/cooking.valid\")"
   ]
  },
  {
   "cell_type": "code",
   "execution_count": 8,
   "id": "1087b43c-29de-4430-869d-400b0767e836",
   "metadata": {},
   "outputs": [
    {
     "data": {
      "text/plain": [
       "(('__label__baking',\n",
       "  '__label__food-safety',\n",
       "  '__label__bread',\n",
       "  '__label__substitutions',\n",
       "  '__label__equipment'),\n",
       " array([0.0750299 , 0.06262442, 0.03546463, 0.03398636, 0.0327246 ]))"
      ]
     },
     "execution_count": 8,
     "metadata": {},
     "output_type": "execute_result"
    }
   ],
   "source": [
    "model.predict(\"Why not put knives in the dishwasher?\", k=5)"
   ]
  },
  {
   "cell_type": "code",
   "execution_count": 10,
   "id": "593c129c-a154-4ea4-bd9a-a6156256e118",
   "metadata": {},
   "outputs": [
    {
     "name": "stderr",
     "output_type": "stream",
     "text": [
      "Read 0M words\n",
      "Number of words:  14543\n",
      "Number of labels: 735\n",
      "Progress: 100.0% words/sec/thread:   59702 lr:  0.000000 avg.loss:  8.028993 ETA:   0h 0m 0s\n"
     ]
    }
   ],
   "source": [
    "model = fasttext.train_supervised(input=\"../data/fasttext_cooking_data/cooking.train\", epoch=25)"
   ]
  },
  {
   "cell_type": "code",
   "execution_count": 11,
   "id": "a6da4544-4087-4ab5-96e1-bd9dc08503fb",
   "metadata": {},
   "outputs": [
    {
     "data": {
      "text/plain": [
       "(3000, 0.43766666666666665, 0.18927490269568978)"
      ]
     },
     "execution_count": 11,
     "metadata": {},
     "output_type": "execute_result"
    }
   ],
   "source": [
    "model.test(\"../data/fasttext_cooking_data/cooking.valid\")"
   ]
  },
  {
   "cell_type": "code",
   "execution_count": 12,
   "id": "7e30844f-36b7-4fd5-b584-75a528f6d027",
   "metadata": {},
   "outputs": [
    {
     "name": "stderr",
     "output_type": "stream",
     "text": [
      "Read 0M words\n",
      "Number of words:  14543\n",
      "Number of labels: 735\n",
      "Progress: 100.0% words/sec/thread: 2362058 lr:  0.000000 avg.loss:  2.614207 ETA:   0h 0m 0s\n"
     ]
    }
   ],
   "source": [
    "model = fasttext.train_supervised(input=\"../data/fasttext_cooking_data/cooking.train\", lr=1.0, epoch=25, wordNgrams=2, bucket=200000, dim=50, loss='hs')"
   ]
  },
  {
   "cell_type": "code",
   "execution_count": null,
   "id": "4c331953-d784-4f72-914e-fdd272632ea0",
   "metadata": {},
   "outputs": [],
   "source": []
  }
 ],
 "metadata": {
  "kernelspec": {
   "display_name": "Python 3 (ipykernel)",
   "language": "python",
   "name": "python3"
  },
  "language_info": {
   "codemirror_mode": {
    "name": "ipython",
    "version": 3
   },
   "file_extension": ".py",
   "mimetype": "text/x-python",
   "name": "python",
   "nbconvert_exporter": "python",
   "pygments_lexer": "ipython3",
   "version": "3.12.4"
  }
 },
 "nbformat": 4,
 "nbformat_minor": 5
}
