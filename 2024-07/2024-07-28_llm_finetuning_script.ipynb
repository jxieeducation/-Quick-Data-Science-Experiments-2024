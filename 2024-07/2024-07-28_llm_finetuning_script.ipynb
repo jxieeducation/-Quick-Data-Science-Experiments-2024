{
 "cells": [
  {
   "cell_type": "markdown",
   "id": "7607ef1f-4592-4541-959b-8e45755a4eaa",
   "metadata": {},
   "source": [
    "### Process Data"
   ]
  },
  {
   "cell_type": "code",
   "execution_count": null,
   "id": "b106e4e2-a580-46d4-996b-946dd093eaf7",
   "metadata": {},
   "outputs": [],
   "source": [
    "# 按OpenAI数据规范，将训练数据按行整理成JSON-L文件\n",
    "with open('../data/processed/chat_data.jsonl', 'w', encoding=\"utf-8\") as data_file:\n",
    "    for item in raw_messages:\n",
    "        data = {\"messages\": []}\n",
    "        data[\"messages\"].append({\"role\": \"system\", \"content\": \"你是一个医疗助手\"})\n",
    "        data[\"messages\"].append({\"role\": \"user\", \"content\": item[\"questions\"]})\n",
    "        data[\"messages\"].append({\"role\": \"assistant\", \"content\": item[\"answers\"]})\n",
    "        json.dump(data, data_file, ensure_ascii=False)\n",
    "        data_file.write('\\n')"
   ]
  },
  {
   "cell_type": "markdown",
   "id": "9e94a120-0740-4bb2-bb0a-5b60ee43be86",
   "metadata": {},
   "source": [
    "### FineTune script"
   ]
  },
  {
   "cell_type": "code",
   "execution_count": null,
   "id": "03673177-a6f8-42c2-bc95-45714a3d016f",
   "metadata": {},
   "outputs": [],
   "source": [
    "openai.FineTune.create(\n",
    "    model_engine=model_engine, ## e.g. 4o\n",
    "    n_epochs=n_epochs,\n",
    "    batch_size=batch_size,\n",
    "    learning_rate=learning_rate,\n",
    "    max_tokens=max_tokens,\n",
    "    training_file=os.path.abspath(training_file),\n",
    "    validation_file=os.path.abspath(validation_file),\n",
    ")"
   ]
  }
 ],
 "metadata": {
  "kernelspec": {
   "display_name": "Python 3 (ipykernel)",
   "language": "python",
   "name": "python3"
  },
  "language_info": {
   "codemirror_mode": {
    "name": "ipython",
    "version": 3
   },
   "file_extension": ".py",
   "mimetype": "text/x-python",
   "name": "python",
   "nbconvert_exporter": "python",
   "pygments_lexer": "ipython3",
   "version": "3.12.3"
  }
 },
 "nbformat": 4,
 "nbformat_minor": 5
}
