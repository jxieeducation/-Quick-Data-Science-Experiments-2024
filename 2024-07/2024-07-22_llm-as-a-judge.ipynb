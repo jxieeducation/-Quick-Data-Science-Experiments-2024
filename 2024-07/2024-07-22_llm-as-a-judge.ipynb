{
 "cells": [
  {
   "cell_type": "markdown",
   "id": "365cb290-6bd9-4402-9274-f19a92efb5b1",
   "metadata": {},
   "source": [
    "https://cameronrwolfe.substack.com/p/llm-as-a-judge\n",
    "\n",
    "### Notes:\n",
    "* different setups\n",
    "    * pairwise\n",
    "        * more computation\n",
    "    * pointwise scoring\n",
    "        * less stable\n",
    "    * reference guided scoring - reference solution \n",
    "* biases of LLM-as-a-judge\n",
    "    * position bias e.g. always first response\n",
    "    * verbosity bias e.g. longer = better\n",
    "    * self-enhancement bias e.g. self = better"
   ]
  },
  {
   "cell_type": "markdown",
   "id": "0a5bd06c-43b3-4341-8eca-79b94d2662d3",
   "metadata": {},
   "source": [
    "### Alignment theory\n",
    "* LLMs learn most of their knowledge from pretraining than instruction finetuning\n",
    "* so we can finetune on less data to have better responses? "
   ]
  },
  {
   "cell_type": "markdown",
   "id": "ae255769-240c-42ce-b0b4-49af2e02788e",
   "metadata": {},
   "source": []
  }
 ],
 "metadata": {
  "kernelspec": {
   "display_name": "Python 3 (ipykernel)",
   "language": "python",
   "name": "python3"
  },
  "language_info": {
   "codemirror_mode": {
    "name": "ipython",
    "version": 3
   },
   "file_extension": ".py",
   "mimetype": "text/x-python",
   "name": "python",
   "nbconvert_exporter": "python",
   "pygments_lexer": "ipython3",
   "version": "3.12.4"
  }
 },
 "nbformat": 4,
 "nbformat_minor": 5
}
