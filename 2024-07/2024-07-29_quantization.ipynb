{
 "cells": [
  {
   "cell_type": "markdown",
   "id": "1dc766c1-c539-43d7-b922-494a7a252135",
   "metadata": {},
   "source": [
    "https://newsletter.maartengrootendorst.com/p/a-visual-guide-to-quantization"
   ]
  },
  {
   "cell_type": "markdown",
   "id": "ad6252c3-d51c-4212-8e36-9bdb9c8668bd",
   "metadata": {},
   "source": [
    "## Notes\n",
    "* going from fp32 to fp16 isn't exactly halving --> in fp32, there are 23 bits used for the number; 10 in fp16\n",
    "* symmetric and asymmetric quantization\n",
    "    * In symmetric quantization, the range of the original floating-point values is mapped to a symmetric range around zero in the quantized space.\n",
    "    * asym - not zero centered\n",
    "* clipping - ignore outliars\n",
    "* Post-Training Quantization (PTQ) vs Quantization Aware Training (QAT)"
   ]
  },
  {
   "cell_type": "markdown",
   "id": "5acab7d9-5516-4826-bc58-a4c11798a17b",
   "metadata": {},
   "source": [
    "* Quantization of the weights is performed using either symmetric or asymmetric quantization.\n",
    "* **Quantization of the activations**, however, requires inference of the model to get their potential distribution since we do not know their range."
   ]
  },
  {
   "cell_type": "markdown",
   "id": "e265a446-87ea-4083-99ba-a0f629cde0db",
   "metadata": {},
   "source": []
  }
 ],
 "metadata": {
  "kernelspec": {
   "display_name": "Python 3 (ipykernel)",
   "language": "python",
   "name": "python3"
  },
  "language_info": {
   "codemirror_mode": {
    "name": "ipython",
    "version": 3
   },
   "file_extension": ".py",
   "mimetype": "text/x-python",
   "name": "python",
   "nbconvert_exporter": "python",
   "pygments_lexer": "ipython3",
   "version": "3.12.4"
  }
 },
 "nbformat": 4,
 "nbformat_minor": 5
}
