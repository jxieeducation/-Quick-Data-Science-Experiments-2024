{
 "cells": [
  {
   "cell_type": "markdown",
   "id": "769179e4-36d7-498f-91f4-57e952438c9f",
   "metadata": {},
   "source": [
    "https://github.com/openai/swarm"
   ]
  },
  {
   "cell_type": "code",
   "execution_count": 3,
   "id": "e69b9a17-a41d-4407-9599-25b1dc43ce12",
   "metadata": {},
   "outputs": [],
   "source": [
    "from swarm import Swarm, Agent"
   ]
  },
  {
   "cell_type": "code",
   "execution_count": 4,
   "id": "5b7046e2-cab9-4836-a4cf-1b589d5c213e",
   "metadata": {},
   "outputs": [],
   "source": [
    "client = Swarm()\n",
    "\n",
    "agent = Agent(\n",
    "    name=\"Basic Agent\",\n",
    "    instructions=\"You are an assistant that provides useful information.\"\n",
    ")"
   ]
  },
  {
   "cell_type": "code",
   "execution_count": 5,
   "id": "af1d81c8-346c-44ae-9e94-89ec54831ffd",
   "metadata": {},
   "outputs": [
    {
     "name": "stdout",
     "output_type": "stream",
     "text": [
      "Of course! What do you need help with?\n"
     ]
    }
   ],
   "source": [
    "messages = [{\"role\": \"user\", \"content\": \"Hello, can you help me?\"}]\n",
    "response = client.run(agent=agent, messages=messages)\n",
    "\n",
    "print(response.messages[-1][\"content\"])"
   ]
  },
  {
   "cell_type": "code",
   "execution_count": null,
   "id": "4014555e-07e6-49c0-bd1d-1f0e795a3fd2",
   "metadata": {},
   "outputs": [],
   "source": []
  },
  {
   "cell_type": "markdown",
   "id": "0770d767-e265-4dee-b244-b58aa663d0b6",
   "metadata": {},
   "source": [
    "### Multi agent"
   ]
  },
  {
   "cell_type": "code",
   "execution_count": 6,
   "id": "4ea3d843-b3f4-4caa-ae95-166975f116e8",
   "metadata": {},
   "outputs": [
    {
     "name": "stdout",
     "output_type": "stream",
     "text": [
      "Agent B has arrived,  \n",
      "Ready to assist with care,  \n",
      "How may I help you?\n"
     ]
    }
   ],
   "source": [
    "client = Swarm()\n",
    "\n",
    "def transfer_to_agent_b():\n",
    "    return agent_b\n",
    "\n",
    "agent_a = Agent(\n",
    "    name=\"Agent A\",\n",
    "    instructions=\"You are a helpful agent.\",\n",
    "    functions=[transfer_to_agent_b],\n",
    ")\n",
    "\n",
    "agent_b = Agent(\n",
    "    name=\"Agent B\",\n",
    "    instructions=\"Only speak in Haikus.\",\n",
    ")\n",
    "\n",
    "response = client.run(\n",
    "    agent=agent_a,\n",
    "    messages=[{\"role\": \"user\", \"content\": \"I want to talk to agent B.\"}],\n",
    ")\n",
    "\n",
    "print(response.messages[-1][\"content\"])"
   ]
  },
  {
   "cell_type": "code",
   "execution_count": 7,
   "id": "3256238d-f61e-47a7-b2de-f144bebf87f0",
   "metadata": {},
   "outputs": [
    {
     "name": "stdout",
     "output_type": "stream",
     "text": [
      "Hello, John! How can I assist you today?\n"
     ]
    }
   ],
   "source": [
    "def instructions(context_variables):\n",
    "   user_name = context_variables[\"user_name\"]\n",
    "   return f\"Help the user, {user_name}, do whatever they want.\"\n",
    "\n",
    "agent = Agent(\n",
    "   instructions=instructions\n",
    ")\n",
    "response = client.run(\n",
    "   agent=agent,\n",
    "   messages=[{\"role\":\"user\", \"content\": \"Hi!\"}],\n",
    "   context_variables={\"user_name\":\"John\"}\n",
    ")\n",
    "print(response.messages[-1][\"content\"])"
   ]
  },
  {
   "cell_type": "code",
   "execution_count": null,
   "id": "84e1636c-44c2-4048-9d45-8ac101ea28da",
   "metadata": {},
   "outputs": [],
   "source": []
  }
 ],
 "metadata": {
  "kernelspec": {
   "display_name": "Python 3 (ipykernel)",
   "language": "python",
   "name": "python3"
  },
  "language_info": {
   "codemirror_mode": {
    "name": "ipython",
    "version": 3
   },
   "file_extension": ".py",
   "mimetype": "text/x-python",
   "name": "python",
   "nbconvert_exporter": "python",
   "pygments_lexer": "ipython3",
   "version": "3.12.4"
  }
 },
 "nbformat": 4,
 "nbformat_minor": 5
}
