{
 "cells": [
  {
   "cell_type": "markdown",
   "id": "c309cccc",
   "metadata": {},
   "source": [
    "https://arize.com/blog-course/ndcg/\n",
    "* for ranking\n",
    "* looks at the discounted relevance scores by the top k results "
   ]
  },
  {
   "cell_type": "code",
   "execution_count": null,
   "id": "d49e9c8b",
   "metadata": {},
   "outputs": [],
   "source": []
  },
  {
   "cell_type": "markdown",
   "id": "c10aba17",
   "metadata": {},
   "source": []
  }
 ],
 "metadata": {
  "kernelspec": {
   "display_name": "Python 3",
   "language": "python",
   "name": "python3"
  },
  "language_info": {
   "codemirror_mode": {
    "name": "ipython",
    "version": 3
   },
   "file_extension": ".py",
   "mimetype": "text/x-python",
   "name": "python",
   "nbconvert_exporter": "python",
   "pygments_lexer": "ipython3",
   "version": "3.9.7"
  }
 },
 "nbformat": 4,
 "nbformat_minor": 5
}
