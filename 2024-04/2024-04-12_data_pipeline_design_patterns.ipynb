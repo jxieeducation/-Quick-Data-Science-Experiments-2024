{
 "cells": [
  {
   "cell_type": "markdown",
   "id": "80380efa",
   "metadata": {},
   "source": [
    "https://www.startdataengineering.com/post/design-patterns/"
   ]
  },
  {
   "cell_type": "markdown",
   "id": "bc82cf11",
   "metadata": {},
   "source": [
    "* source and sinks\n",
    "    * source: inputs\n",
    "    * sink: output\n",
    "    * source replayability: \n",
    "        * if you can replay historical sources e.g. event streams, log files\n",
    "        * application tables modified by apis cannot be replayed\n",
    "    * source ordering: watermarking, exponential backoff\n",
    "    * sink overwritability: update specific rows of existing data - e.g. if sink has a primary key\n",
    "* Idempotent: Idempotency in data pipelines means that one can run a data pipeline multiple times with the same input, and the output will not change. Running a data pipeline numerous times with the same inputs will not create any duplicates or schema changes.\n",
    "* self-healing: the next pipeline run will “catch up” all the unprocessed data when an error occurs during a run."
   ]
  },
  {
   "cell_type": "markdown",
   "id": "1df4203f",
   "metadata": {},
   "source": []
  },
  {
   "cell_type": "markdown",
   "id": "aa25e420",
   "metadata": {},
   "source": []
  },
  {
   "cell_type": "markdown",
   "id": "0afa698a",
   "metadata": {},
   "source": []
  }
 ],
 "metadata": {
  "kernelspec": {
   "display_name": "Python 3",
   "language": "python",
   "name": "python3"
  },
  "language_info": {
   "codemirror_mode": {
    "name": "ipython",
    "version": 3
   },
   "file_extension": ".py",
   "mimetype": "text/x-python",
   "name": "python",
   "nbconvert_exporter": "python",
   "pygments_lexer": "ipython3",
   "version": "3.9.7"
  }
 },
 "nbformat": 4,
 "nbformat_minor": 5
}
