{
 "cells": [
  {
   "cell_type": "markdown",
   "id": "ff0fa1a2",
   "metadata": {},
   "source": [
    "https://towardsdatascience.com/ai-fairness-explanation-of-disparate-impact-remover-ce0da59451f1"
   ]
  },
  {
   "cell_type": "markdown",
   "id": "1fe3fb03",
   "metadata": {},
   "source": [
    "### Disparate Impact\n",
    "* $\\frac{Pr( Y=1 | D=underpriviledged )}{ Pr( Y=1 | D=priviledged ) }$\n",
    "* If DI is less than 80%, then tweak model"
   ]
  },
  {
   "cell_type": "markdown",
   "id": "55eaa084",
   "metadata": {},
   "source": [
    "### Disparate Impact Remover\n",
    "* Preprocessing \n",
    "* adds repair_level - e.g. 1.0 = make underpriviledged and priviledged the same, 0.8 - ...etc.\n",
    "* in-group ranking is preserved\n",
    "* https://aif360.readthedocs.io/en/latest/modules/generated/aif360.algorithms.preprocessing.DisparateImpactRemover.html"
   ]
  },
  {
   "cell_type": "code",
   "execution_count": null,
   "id": "4fa2445c",
   "metadata": {},
   "outputs": [],
   "source": []
  }
 ],
 "metadata": {
  "kernelspec": {
   "display_name": "Python 3",
   "language": "python",
   "name": "python3"
  },
  "language_info": {
   "codemirror_mode": {
    "name": "ipython",
    "version": 3
   },
   "file_extension": ".py",
   "mimetype": "text/x-python",
   "name": "python",
   "nbconvert_exporter": "python",
   "pygments_lexer": "ipython3",
   "version": "3.9.7"
  }
 },
 "nbformat": 4,
 "nbformat_minor": 5
}
