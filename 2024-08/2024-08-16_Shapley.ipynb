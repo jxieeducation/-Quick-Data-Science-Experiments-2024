{
 "cells": [
  {
   "cell_type": "markdown",
   "id": "995f4dcd-c2dc-4a32-ae8c-16fb964048a0",
   "metadata": {},
   "source": [
    "https://christophm.github.io/interpretable-ml-book/shapley.html"
   ]
  },
  {
   "cell_type": "markdown",
   "id": "64cfee45-d252-4f5c-9b7b-ded05c2c3453",
   "metadata": {},
   "source": [
    "* The Shapley value, coined by Shapley (1953)63, is a method for assigning payouts to players depending on their contribution to the total payout. Players cooperate in a coalition and receive a certain profit from this cooperation.\n",
    "    * game theory, players are the feature\n",
    "    * (for single feature) The Shapley value is the average marginal contribution of a feature value across all possible coalitions.\n",
    "    * "
   ]
  },
  {
   "cell_type": "code",
   "execution_count": null,
   "id": "9af26c5f-6126-4a72-981d-a53cc3c8943b",
   "metadata": {},
   "outputs": [],
   "source": []
  }
 ],
 "metadata": {
  "kernelspec": {
   "display_name": "Python 3 (ipykernel)",
   "language": "python",
   "name": "python3"
  },
  "language_info": {
   "codemirror_mode": {
    "name": "ipython",
    "version": 3
   },
   "file_extension": ".py",
   "mimetype": "text/x-python",
   "name": "python",
   "nbconvert_exporter": "python",
   "pygments_lexer": "ipython3",
   "version": "3.12.4"
  }
 },
 "nbformat": 4,
 "nbformat_minor": 5
}
