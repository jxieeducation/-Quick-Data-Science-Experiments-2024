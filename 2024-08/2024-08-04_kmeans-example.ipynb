{
 "cells": [
  {
   "cell_type": "code",
   "execution_count": 11,
   "id": "4020ba95-5eca-4b06-ab02-25af5784d285",
   "metadata": {},
   "outputs": [],
   "source": [
    "import numpy as np\n",
    "import matplotlib.pyplot as plt\n",
    "from mpl_toolkits.mplot3d import Axes3D\n",
    "import gradio as gr\n",
    "import os\n",
    "from datetime import datetime"
   ]
  },
  {
   "cell_type": "code",
   "execution_count": 14,
   "id": "106643e4-6c7c-4634-9f2a-21538b86d77d",
   "metadata": {},
   "outputs": [],
   "source": [
    "def kmeans(X, K, max_iters):\n",
    "    # Initialize centroids randomly\n",
    "    centroids = X[np.random.choice(X.shape[0], K, replace=False)]\n",
    "    \n",
    "    losses = []\n",
    "    \n",
    "    for _ in range(max_iters):\n",
    "        # Assign points to nearest centroid\n",
    "        distances = np.sqrt(((X - centroids[:, np.newaxis])**2).sum(axis=2))\n",
    "        labels = np.argmin(distances, axis=0)\n",
    "        \n",
    "        # Update centroids\n",
    "        new_centroids = np.array([X[labels == k].mean(axis=0) for k in range(K)])\n",
    "        \n",
    "        # Calculate loss\n",
    "        loss = np.sum((X - new_centroids[labels])**2)\n",
    "        losses.append(loss)\n",
    "        \n",
    "        # Check for convergence\n",
    "        if np.all(centroids == new_centroids):\n",
    "            break\n",
    "        \n",
    "        centroids = new_centroids\n",
    "    \n",
    "    return labels, centroids, losses"
   ]
  },
  {
   "cell_type": "code",
   "execution_count": 19,
   "id": "833895fc-3249-418f-9b98-a6fd0ea52520",
   "metadata": {},
   "outputs": [],
   "source": [
    "def visualize_clusters(X, labels, centroids):\n",
    "    dim = X.shape[1]\n",
    "    \n",
    "    fig = plt.figure(figsize=(10, 6))\n",
    "    \n",
    "    if dim == 1:\n",
    "        plt.scatter(X, np.zeros_like(X), c=labels, cmap='viridis')\n",
    "        plt.scatter(centroids, np.zeros_like(centroids), c='red', marker='x', s=200, linewidths=3)\n",
    "        plt.title('1D K-means Clustering')\n",
    "        plt.xlabel('X')\n",
    "    elif dim == 2:\n",
    "        plt.scatter(X[:, 0], X[:, 1], c=labels, cmap='viridis')\n",
    "        plt.scatter(centroids[:, 0], centroids[:, 1], c='red', marker='x', s=200, linewidths=3)\n",
    "        plt.title('2D K-means Clustering')\n",
    "        plt.xlabel('X')\n",
    "        plt.ylabel('Y')\n",
    "    elif dim == 3:\n",
    "        ax = fig.add_subplot(111, projection='3d')\n",
    "        scatter = ax.scatter(X[:, 0], X[:, 1], X[:, 2], c=labels, cmap='viridis')\n",
    "        ax.scatter(centroids[:, 0], centroids[:, 1], centroids[:, 2], c='red', marker='x', s=200, linewidths=3)\n",
    "        ax.set_title('3D K-means Clustering')\n",
    "        ax.set_xlabel('X')\n",
    "        ax.set_ylabel('Y')\n",
    "        ax.set_zlabel('Z')\n",
    "    \n",
    "    plt.tight_layout()\n",
    "    return fig\n"
   ]
  },
  {
   "cell_type": "code",
   "execution_count": 20,
   "id": "e9769802-1d2d-4c83-bba1-627921228526",
   "metadata": {},
   "outputs": [],
   "source": [
    "def plot_loss(losses):\n",
    "    fig = plt.figure(figsize=(10, 6))\n",
    "    plt.plot(range(1, len(losses) + 1), losses)\n",
    "    plt.title('K-means Loss per Iteration')\n",
    "    plt.xlabel('Iteration')\n",
    "    plt.ylabel('Loss')\n",
    "    plt.tight_layout()\n",
    "    return fig"
   ]
  },
  {
   "cell_type": "code",
   "execution_count": 21,
   "id": "f850b13a-acc8-4473-aa17-e425d744b275",
   "metadata": {},
   "outputs": [],
   "source": [
    "def run_kmeans(dimensions, n_clusters, n_iterations, n_samples):\n",
    "    # Generate random data\n",
    "    X = np.random.rand(n_samples, dimensions)\n",
    "    \n",
    "    # Run K-means\n",
    "    labels, centroids, losses = kmeans(X, n_clusters, n_iterations)\n",
    "    \n",
    "    # Create output directory if it doesn't exist\n",
    "    output_dir = \"kmeans_output\"\n",
    "    os.makedirs(output_dir, exist_ok=True)\n",
    "    \n",
    "    # Generate timestamp for unique filenames\n",
    "    timestamp = datetime.now().strftime(\"%Y%m%d_%H%M%S\")\n",
    "    \n",
    "    # Visualize clusters\n",
    "    cluster_fig = visualize_clusters(X, labels, centroids)\n",
    "    cluster_filename = f\"{output_dir}/cluster_plot_{timestamp}.png\"\n",
    "    cluster_fig.savefig(cluster_filename)\n",
    "    plt.close(cluster_fig)\n",
    "    \n",
    "    # Plot loss\n",
    "    loss_fig = plot_loss(losses)\n",
    "    loss_filename = f\"{output_dir}/loss_plot_{timestamp}.png\"\n",
    "    loss_fig.savefig(loss_filename)\n",
    "    plt.close(loss_fig)\n",
    "    \n",
    "    return cluster_filename, loss_filename, cluster_filename, loss_filename"
   ]
  },
  {
   "cell_type": "code",
   "execution_count": 22,
   "id": "6058541c-4b0b-4e4a-8dcc-b211f1664e49",
   "metadata": {},
   "outputs": [
    {
     "name": "stdout",
     "output_type": "stream",
     "text": [
      "Running on local URL:  http://127.0.0.1:7864\n",
      "\n",
      "To create a public link, set `share=True` in `launch()`.\n"
     ]
    },
    {
     "data": {
      "text/html": [
       "<div><iframe src=\"http://127.0.0.1:7864/\" width=\"100%\" height=\"500\" allow=\"autoplay; camera; microphone; clipboard-read; clipboard-write;\" frameborder=\"0\" allowfullscreen></iframe></div>"
      ],
      "text/plain": [
       "<IPython.core.display.HTML object>"
      ]
     },
     "metadata": {},
     "output_type": "display_data"
    },
    {
     "data": {
      "text/plain": []
     },
     "execution_count": 22,
     "metadata": {},
     "output_type": "execute_result"
    }
   ],
   "source": [
    "iface = gr.Interface(\n",
    "    fn=run_kmeans,\n",
    "    inputs=[\n",
    "        gr.Slider(1, 3, step=1, label=\"Number of Dimensions\"),\n",
    "        gr.Slider(2, 10, step=1, label=\"Number of Clusters (K)\"),\n",
    "        gr.Slider(1, 100, step=1, label=\"Number of Iterations\"),\n",
    "        gr.Slider(100, 1000, step=100, label=\"Number of Samples\")\n",
    "    ],\n",
    "    outputs=[\n",
    "        gr.Image(label=\"Cluster Visualization\"),\n",
    "        gr.Image(label=\"Loss per Iteration\"),\n",
    "        gr.Text(label=\"Cluster Plot Filename\"),\n",
    "        gr.Text(label=\"Loss Plot Filename\")\n",
    "    ],\n",
    "    title=\"K-means Clustering\",\n",
    "    description=\"Specify the number of dimensions, clusters, iterations, and samples to run K-means clustering. Images are saved locally.\",\n",
    ")\n",
    "\n",
    "iface.launch()"
   ]
  },
  {
   "cell_type": "code",
   "execution_count": null,
   "id": "da747adc-0138-4402-b92d-8e3376e94cf8",
   "metadata": {},
   "outputs": [],
   "source": []
  }
 ],
 "metadata": {
  "kernelspec": {
   "display_name": "Python 3 (ipykernel)",
   "language": "python",
   "name": "python3"
  },
  "language_info": {
   "codemirror_mode": {
    "name": "ipython",
    "version": 3
   },
   "file_extension": ".py",
   "mimetype": "text/x-python",
   "name": "python",
   "nbconvert_exporter": "python",
   "pygments_lexer": "ipython3",
   "version": "3.12.3"
  }
 },
 "nbformat": 4,
 "nbformat_minor": 5
}
