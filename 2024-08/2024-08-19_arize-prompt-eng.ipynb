{
 "cells": [
  {
   "cell_type": "markdown",
   "id": "a4a1922a-7400-490c-8317-5b60c5fc553b",
   "metadata": {},
   "source": [
    "https://www.youtube.com/watch?v=4PNU5mTbGec"
   ]
  },
  {
   "cell_type": "markdown",
   "id": "0660fbd3-e60a-4d08-8794-3b482e900ed8",
   "metadata": {},
   "source": [
    "* set up:\n",
    "    * persona\n",
    "    * problem\n",
    "    * explanation\n",
    "    * promise\n",
    "* evaluator: 0/1\n",
    "* mid"
   ]
  },
  {
   "cell_type": "code",
   "execution_count": null,
   "id": "dea177b5-2a57-43dc-b7e4-7cfbd7eaeedd",
   "metadata": {},
   "outputs": [],
   "source": []
  }
 ],
 "metadata": {
  "kernelspec": {
   "display_name": "Python 3 (ipykernel)",
   "language": "python",
   "name": "python3"
  },
  "language_info": {
   "codemirror_mode": {
    "name": "ipython",
    "version": 3
   },
   "file_extension": ".py",
   "mimetype": "text/x-python",
   "name": "python",
   "nbconvert_exporter": "python",
   "pygments_lexer": "ipython3",
   "version": "3.12.4"
  }
 },
 "nbformat": 4,
 "nbformat_minor": 5
}
