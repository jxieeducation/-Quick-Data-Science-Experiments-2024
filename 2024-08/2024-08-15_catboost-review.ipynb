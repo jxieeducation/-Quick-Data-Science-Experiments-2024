{
 "cells": [
  {
   "cell_type": "markdown",
   "id": "3fdabbaa-8e07-434f-ba77-fa0a5bf04190",
   "metadata": {},
   "source": [
    "https://python.plainenglish.io/smart-aspects-of-catboost-algorithm-2720a6de4da6\n",
    "\n"
   ]
  },
  {
   "cell_type": "markdown",
   "id": "4b0427be-4c64-488c-8aa7-06dfb568ca4d",
   "metadata": {},
   "source": [
    "* CatBoost uses symmetric full binary trees --> protected from overfitting\n",
    "* target-based encoding\n",
    "    * a form of target-based but sequentially-ordered encoding\n",
    "    * $\\frac{current_count + prior}{ max count}$\n",
    "* Minimal Variance Sampling"
   ]
  },
  {
   "cell_type": "code",
   "execution_count": null,
   "id": "ee1a81c0-22af-4125-8d75-c8e4bb42d3cb",
   "metadata": {},
   "outputs": [],
   "source": []
  }
 ],
 "metadata": {
  "kernelspec": {
   "display_name": "Python 3 (ipykernel)",
   "language": "python",
   "name": "python3"
  },
  "language_info": {
   "codemirror_mode": {
    "name": "ipython",
    "version": 3
   },
   "file_extension": ".py",
   "mimetype": "text/x-python",
   "name": "python",
   "nbconvert_exporter": "python",
   "pygments_lexer": "ipython3",
   "version": "3.12.4"
  }
 },
 "nbformat": 4,
 "nbformat_minor": 5
}
