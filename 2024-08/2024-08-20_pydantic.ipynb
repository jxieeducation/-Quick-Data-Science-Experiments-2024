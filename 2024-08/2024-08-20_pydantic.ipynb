{
 "cells": [
  {
   "cell_type": "markdown",
   "id": "903648c5-b9d5-4047-adc4-ef1ea8dddd9a",
   "metadata": {},
   "source": [
    "* pydantic for LLM response validation"
   ]
  },
  {
   "cell_type": "markdown",
   "id": "6f136e74-c139-4ddc-90ff-66aae001cabe",
   "metadata": {},
   "source": [
    "https://www.youtube.com/watch?v=XIdQ6gO3Anc"
   ]
  },
  {
   "cell_type": "code",
   "execution_count": null,
   "id": "02c1f290-ecd4-4f4a-97a0-cb10e31d3c9e",
   "metadata": {},
   "outputs": [],
   "source": []
  }
 ],
 "metadata": {
  "kernelspec": {
   "display_name": "Python 3 (ipykernel)",
   "language": "python",
   "name": "python3"
  },
  "language_info": {
   "codemirror_mode": {
    "name": "ipython",
    "version": 3
   },
   "file_extension": ".py",
   "mimetype": "text/x-python",
   "name": "python",
   "nbconvert_exporter": "python",
   "pygments_lexer": "ipython3",
   "version": "3.12.4"
  }
 },
 "nbformat": 4,
 "nbformat_minor": 5
}
