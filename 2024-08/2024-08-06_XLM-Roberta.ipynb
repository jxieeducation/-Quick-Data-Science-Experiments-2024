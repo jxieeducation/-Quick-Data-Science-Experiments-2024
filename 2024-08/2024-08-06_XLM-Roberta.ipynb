{
 "cells": [
  {
   "cell_type": "markdown",
   "id": "cb14bf65-dc2b-4ad3-8150-d2cd8488ad4b",
   "metadata": {},
   "source": [
    "https://arxiv.org/pdf/1911.02116"
   ]
  },
  {
   "cell_type": "markdown",
   "id": "4242fb8b-30e2-4f70-8f5c-d185450040b8",
   "metadata": {},
   "source": [
    "* positive transfer vs capacity dilution\n",
    "* high vs low resources"
   ]
  },
  {
   "cell_type": "markdown",
   "id": "e910e7ca-e45c-4c9f-a1ef-3b01c37700db",
   "metadata": {},
   "source": [
    "* Transfer-dilution trade off & Curse of Multilinguality\n",
    "    * per language capacity decreases as we increase # of langs\n",
    "    * positive transfer and capacity dilution have to be traded off against each other\n",
    "    * for low resource lang, initial transfer learning -> better perf, but degrades as resource lowers\n",
    "    * for high resource lang, strictly worse as more langs are added\n",
    "* High-resource vs Low-resource trade-off\n",
    "    * several considerations: training set size, size of shared subword vocab, rate at which each lang is sampled\n",
    "    * trade off between artificial sampling and performance on low performance groups\n",
    "* "
   ]
  },
  {
   "cell_type": "markdown",
   "id": "8e1ef6fa-b36f-4004-9592-7c0f4110ed03",
   "metadata": {},
   "source": []
  }
 ],
 "metadata": {
  "kernelspec": {
   "display_name": "Python 3 (ipykernel)",
   "language": "python",
   "name": "python3"
  },
  "language_info": {
   "codemirror_mode": {
    "name": "ipython",
    "version": 3
   },
   "file_extension": ".py",
   "mimetype": "text/x-python",
   "name": "python",
   "nbconvert_exporter": "python",
   "pygments_lexer": "ipython3",
   "version": "3.12.4"
  }
 },
 "nbformat": 4,
 "nbformat_minor": 5
}
