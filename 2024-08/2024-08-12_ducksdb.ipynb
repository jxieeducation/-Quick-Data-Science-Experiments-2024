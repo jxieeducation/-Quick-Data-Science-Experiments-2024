{
 "cells": [
  {
   "cell_type": "markdown",
   "id": "2e31547c-08fa-4d79-b380-2e86e5dda79d",
   "metadata": {},
   "source": [
    "https://motherduck.com/blog/duckdb-tutorial-for-beginners/\n",
    "\n",
    "### Pros\n",
    "* run pipelines locally w/o warehouse\n",
    "* run data locally\n",
    "* Decouples running queries from needing a database of some kind."
   ]
  },
  {
   "cell_type": "markdown",
   "id": "1a6aab53-5b62-40fb-913e-5ee426d80383",
   "metadata": {},
   "source": [
    "* SELECT * FROM read_csv_auto('/Users/jxie/Downloads/old_metrics.txt');\n",
    "* write file:\n",
    "    * COPY ./data/netflix_top10.csv TO 'path/to/your/output/file.csv' WITH (FORMAT 'CSV', DELIMITER ',');\n",
    "    * COPY ./data/netflix_top10.csv TO 'path/to/your/output/file.parquet' WITH (FORMAT 'PARQUET');"
   ]
  },
  {
   "cell_type": "code",
   "execution_count": 3,
   "id": "07f9b5a9-2cca-4b17-8cf2-85c7e706e85a",
   "metadata": {},
   "outputs": [
    {
     "name": "stdout",
     "output_type": "stream",
     "text": [
      "┌──────────────────────────────────────────────────────────────────────────────┐\n",
      "│ # HELP go_gc_duration_seconds A summary of the pause duration of garbage c…  │\n",
      "│                                   varchar                                    │\n",
      "├──────────────────────────────────────────────────────────────────────────────┤\n",
      "│ # TYPE go_gc_duration_seconds summary                                        │\n",
      "│ go_gc_duration_seconds{quantile=\"0\"} 4.9306e-05                              │\n",
      "│ go_gc_duration_seconds{quantile=\"0.25\"} 5.6062e-05                           │\n",
      "│ go_gc_duration_seconds{quantile=\"0.5\"} 6.1598e-05                            │\n",
      "│ go_gc_duration_seconds{quantile=\"0.75\"} 7.4945e-05                           │\n",
      "│ go_gc_duration_seconds{quantile=\"1\"} 0.000392745                             │\n",
      "│ go_gc_duration_seconds_sum 0.581424306                                       │\n",
      "│ go_gc_duration_seconds_count 8786                                            │\n",
      "│ # HELP go_goroutines Number of goroutines that currently exist.              │\n",
      "│ # TYPE go_goroutines gauge                                                   │\n",
      "├──────────────────────────────────────────────────────────────────────────────┤\n",
      "│                                   10 rows                                    │\n",
      "└──────────────────────────────────────────────────────────────────────────────┘\n"
     ]
    }
   ],
   "source": [
    "!duckdb -c \"SELECT * FROM read_csv_auto('/Users/jxie/Downloads/old_metrics.txt') limit 10;\""
   ]
  },
  {
   "cell_type": "markdown",
   "id": "a7b78123-7bb8-4104-a945-d2c041dcc3f4",
   "metadata": {},
   "source": [
    "### Example\n",
    "* -- Install extensions\n",
    "* INSTALL httpfs;\n",
    "* LOAD httpfs;\n",
    "* -- Minimum configuration for loading S3 dataset if the bucket is public\n",
    "* SET s3_region='us-east-1';\n",
    "* CREATE TABLE netflix AS SELECT * FROM read_parquet('s3://duckdb-md-dataset-121/netflix_daily_top_10.parquet');\n",
    "* FROM netflix;\n",
    "* SELECT Title, max(\"Days In Top 10\") from netflix\n",
    "where Type='Movie'\n",
    "GROUP BY Title\n",
    "ORDER BY max(\"Days In Top 10\") desc\n",
    "limit 5;"
   ]
  },
  {
   "cell_type": "code",
   "execution_count": null,
   "id": "8e56b4c1-3d34-4541-baef-feae58d1ddd8",
   "metadata": {},
   "outputs": [],
   "source": []
  }
 ],
 "metadata": {
  "kernelspec": {
   "display_name": "Python 3 (ipykernel)",
   "language": "python",
   "name": "python3"
  },
  "language_info": {
   "codemirror_mode": {
    "name": "ipython",
    "version": 3
   },
   "file_extension": ".py",
   "mimetype": "text/x-python",
   "name": "python",
   "nbconvert_exporter": "python",
   "pygments_lexer": "ipython3",
   "version": "3.12.4"
  }
 },
 "nbformat": 4,
 "nbformat_minor": 5
}
