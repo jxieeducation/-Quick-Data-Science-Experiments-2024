{
 "cells": [
  {
   "cell_type": "markdown",
   "id": "1ce5d20a-d940-4225-8d13-a56ba52db7b1",
   "metadata": {},
   "source": [
    "https://branchfree.org/2019/02/28/paper-hyperscan-a-fast-multi-pattern-regex-matcher-for-modern-cpus/?t&utm_source=perplexity"
   ]
  },
  {
   "cell_type": "markdown",
   "id": "cdc8c907-dc61-4a29-a462-9c87e7b721b1",
   "metadata": {},
   "source": [
    "* state machine regex\n",
    "* SIMD - CPU level matching"
   ]
  },
  {
   "cell_type": "markdown",
   "id": "3bbc5009-d61f-45e0-bf2a-d8e2f00eb49c",
   "metadata": {},
   "source": []
  }
 ],
 "metadata": {
  "kernelspec": {
   "display_name": "Python 3 (ipykernel)",
   "language": "python",
   "name": "python3"
  },
  "language_info": {
   "codemirror_mode": {
    "name": "ipython",
    "version": 3
   },
   "file_extension": ".py",
   "mimetype": "text/x-python",
   "name": "python",
   "nbconvert_exporter": "python",
   "pygments_lexer": "ipython3",
   "version": "3.12.4"
  }
 },
 "nbformat": 4,
 "nbformat_minor": 5
}
