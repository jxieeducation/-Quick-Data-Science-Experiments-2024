{
 "cells": [
  {
   "cell_type": "markdown",
   "id": "3e3d07f5-0f27-4bf3-83da-de63a7e4a0b2",
   "metadata": {},
   "source": [
    "https://huggingface.co/learn/nlp-course/chapter1/1"
   ]
  },
  {
   "cell_type": "markdown",
   "id": "b89120ff-5b77-41f0-8ce0-dc58f7c559c9",
   "metadata": {},
   "source": [
    "### Pipeline\n",
    "* prebuilt "
   ]
  },
  {
   "cell_type": "code",
   "execution_count": null,
   "id": "c9f6566e-3398-4c84-b63b-528e6cf0faa5",
   "metadata": {},
   "outputs": [
    {
     "name": "stderr",
     "output_type": "stream",
     "text": [
      "/opt/homebrew/lib/python3.12/site-packages/tqdm/auto.py:21: TqdmWarning: IProgress not found. Please update jupyter and ipywidgets. See https://ipywidgets.readthedocs.io/en/stable/user_install.html\n",
      "  from .autonotebook import tqdm as notebook_tqdm\n"
     ]
    }
   ],
   "source": [
    "from transformers import pipeline\n",
    "\n",
    "generator = pipeline(\"text-generation\", model=\"distilgpt2\")\n",
    "generator(\n",
    "    \"In this course, we will teach you how to\",\n",
    "    max_length=30,\n",
    "    num_return_sequences=2,\n",
    ")"
   ]
  },
  {
   "cell_type": "code",
   "execution_count": null,
   "id": "fba756e6-41be-4d93-9dde-fbbb7c30a0b5",
   "metadata": {},
   "outputs": [],
   "source": []
  },
  {
   "cell_type": "code",
   "execution_count": null,
   "id": "a8cd24fa-b781-4540-89d8-d4e6dfca7720",
   "metadata": {},
   "outputs": [],
   "source": []
  }
 ],
 "metadata": {
  "kernelspec": {
   "display_name": "Python 3 (ipykernel)",
   "language": "python",
   "name": "python3"
  },
  "language_info": {
   "codemirror_mode": {
    "name": "ipython",
    "version": 3
   },
   "file_extension": ".py",
   "mimetype": "text/x-python",
   "name": "python",
   "nbconvert_exporter": "python",
   "pygments_lexer": "ipython3",
   "version": "3.12.4"
  }
 },
 "nbformat": 4,
 "nbformat_minor": 5
}
