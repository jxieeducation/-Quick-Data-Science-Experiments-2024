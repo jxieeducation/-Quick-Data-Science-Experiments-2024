{
 "cells": [
  {
   "cell_type": "markdown",
   "id": "f4f211ee-0985-42f0-8cd1-e1cefcbe2890",
   "metadata": {},
   "source": [
    "https://jaketae.github.io/study/rejection-sampling/"
   ]
  },
  {
   "cell_type": "markdown",
   "id": "95708c1c-a4a1-4323-a6a1-19758962d336",
   "metadata": {},
   "source": []
  },
  {
   "cell_type": "markdown",
   "id": "a61cf24f-f813-4316-a449-fa260f23b836",
   "metadata": {},
   "source": []
  }
 ],
 "metadata": {
  "kernelspec": {
   "display_name": "Python 3 (ipykernel)",
   "language": "python",
   "name": "python3"
  },
  "language_info": {
   "codemirror_mode": {
    "name": "ipython",
    "version": 3
   },
   "file_extension": ".py",
   "mimetype": "text/x-python",
   "name": "python",
   "nbconvert_exporter": "python",
   "pygments_lexer": "ipython3",
   "version": "3.12.3"
  }
 },
 "nbformat": 4,
 "nbformat_minor": 5
}
