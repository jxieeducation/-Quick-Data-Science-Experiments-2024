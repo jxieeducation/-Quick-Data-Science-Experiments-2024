{
 "cells": [
  {
   "cell_type": "markdown",
   "id": "6ef8018d-a11d-498d-945f-1e8a23f1eca0",
   "metadata": {},
   "source": [
    "https://blog.vllm.ai/2023/06/20/vllm.html"
   ]
  },
  {
   "cell_type": "markdown",
   "id": "ae8d041e-0850-4086-bbad-a81b1556fdc6",
   "metadata": {},
   "source": [
    "* vLLM utilizes PagedAttention - effectively manage attention keys and values\n",
    "* traditional kv is large\n",
    "    * 60% – 80% of memory due to fragmentation and over-reservation.\n",
    "* PagedAttention allows storing continuous keys and values in non-contiguous memory space.\n",
    "    * efficient memory sharing. For example, in parallel sampling\n",
    "    * Copy-on-Write mechanism\n",
    "* "
   ]
  }
 ],
 "metadata": {
  "kernelspec": {
   "display_name": "Python 3 (ipykernel)",
   "language": "python",
   "name": "python3"
  },
  "language_info": {
   "codemirror_mode": {
    "name": "ipython",
    "version": 3
   },
   "file_extension": ".py",
   "mimetype": "text/x-python",
   "name": "python",
   "nbconvert_exporter": "python",
   "pygments_lexer": "ipython3",
   "version": "3.12.4"
  }
 },
 "nbformat": 4,
 "nbformat_minor": 5
}
