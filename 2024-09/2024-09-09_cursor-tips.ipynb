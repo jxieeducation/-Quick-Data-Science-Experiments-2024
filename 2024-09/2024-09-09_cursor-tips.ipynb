{
 "cells": [
  {
   "cell_type": "markdown",
   "id": "bf865f47-0ddd-4495-ae3f-dda471025dec",
   "metadata": {},
   "source": [
    "https://www.reddit.com/r/cursor/comments/1f32y4p/cursor_tips_tricks/"
   ]
  },
  {
   "cell_type": "markdown",
   "id": "af92d660-0a24-41d1-9c09-39ff3460c182",
   "metadata": {},
   "source": [
    "* Claude > GPT4o\n",
    "* for new files - start new file - tell it to follow the pattern of this component: <pasted component>\n",
    "* to do data manipulation - show example\n",
    "* "
   ]
  },
  {
   "cell_type": "code",
   "execution_count": null,
   "id": "0b1f03f0-1f3f-475f-90dd-195173e070c6",
   "metadata": {},
   "outputs": [],
   "source": []
  }
 ],
 "metadata": {
  "kernelspec": {
   "display_name": "Python 3 (ipykernel)",
   "language": "python",
   "name": "python3"
  },
  "language_info": {
   "codemirror_mode": {
    "name": "ipython",
    "version": 3
   },
   "file_extension": ".py",
   "mimetype": "text/x-python",
   "name": "python",
   "nbconvert_exporter": "python",
   "pygments_lexer": "ipython3",
   "version": "3.12.4"
  }
 },
 "nbformat": 4,
 "nbformat_minor": 5
}
