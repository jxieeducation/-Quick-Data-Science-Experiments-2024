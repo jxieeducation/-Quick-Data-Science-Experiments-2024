{
 "cells": [
  {
   "cell_type": "markdown",
   "id": "019a8146-9685-4150-8f50-3222ade4fdb6",
   "metadata": {},
   "source": [
    "https://www.anyscale.com/blog/building-an-llm-router-for-high-quality-and-cost-effective-responses"
   ]
  },
  {
   "cell_type": "markdown",
   "id": "2cda1666-885f-4aea-a2ab-c5a210ad0897",
   "metadata": {},
   "source": [
    "* get weak LLM responses\n",
    "* get strong LLM to label weak LLM responses on a scale of 1-5\n",
    "* create router model using labels of if weak LLM is at least a 4 "
   ]
  },
  {
   "cell_type": "code",
   "execution_count": null,
   "id": "f298a39d-d2ba-4e8c-9c26-52e0a6e5540c",
   "metadata": {},
   "outputs": [],
   "source": []
  }
 ],
 "metadata": {
  "kernelspec": {
   "display_name": "Python 3 (ipykernel)",
   "language": "python",
   "name": "python3"
  },
  "language_info": {
   "codemirror_mode": {
    "name": "ipython",
    "version": 3
   },
   "file_extension": ".py",
   "mimetype": "text/x-python",
   "name": "python",
   "nbconvert_exporter": "python",
   "pygments_lexer": "ipython3",
   "version": "3.12.4"
  }
 },
 "nbformat": 4,
 "nbformat_minor": 5
}
