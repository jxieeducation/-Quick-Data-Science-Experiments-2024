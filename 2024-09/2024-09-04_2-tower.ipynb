{
 "cells": [
  {
   "cell_type": "markdown",
   "id": "eb529a4a-62b7-4351-bd7a-fe9c4bf94ab6",
   "metadata": {},
   "source": [
    "https://www.yuan-meng.com/posts/negative_sampling/"
   ]
  },
  {
   "cell_type": "markdown",
   "id": "a36267f2-36f3-443b-84af-bfb61e289eef",
   "metadata": {},
   "source": [
    "* 2 stage architecture\n",
    "* The query and the item towers both take sparse IDs and dense features as inputs and learn a function mapping from the input feature to a dense embedding\n",
    "* 4 types of negative samples\n",
    "    * static\n",
    "        * random\n",
    "        * popularity based\n",
    "    * dynamic\n",
    "        * query-dependent\n",
    "        * positive-dependent\n",
    "    * adversarial\n",
    "        * discrete\n",
    "        * continuous\n",
    "    * efficient\n",
    "        * in-batch NS - we treat every other item in the batch as random --> selection bias\n",
    "        * caching mechanism"
   ]
  },
  {
   "cell_type": "code",
   "execution_count": null,
   "id": "7ac86a9a-e45b-4f8b-a5a9-e039a6729661",
   "metadata": {},
   "outputs": [],
   "source": []
  }
 ],
 "metadata": {
  "kernelspec": {
   "display_name": "Python 3 (ipykernel)",
   "language": "python",
   "name": "python3"
  },
  "language_info": {
   "codemirror_mode": {
    "name": "ipython",
    "version": 3
   },
   "file_extension": ".py",
   "mimetype": "text/x-python",
   "name": "python",
   "nbconvert_exporter": "python",
   "pygments_lexer": "ipython3",
   "version": "3.12.4"
  }
 },
 "nbformat": 4,
 "nbformat_minor": 5
}
