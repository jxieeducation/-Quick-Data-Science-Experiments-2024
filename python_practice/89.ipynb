{
 "cells": [
  {
   "cell_type": "markdown",
   "id": "ec585cc8-25de-4db5-9bba-154da5aca38e",
   "metadata": {},
   "source": [
    "https://github.com/yatengLG/leetcode-python/tree/master/question_bank/gray-code"
   ]
  },
  {
   "cell_type": "code",
   "execution_count": null,
   "id": "6a6cdafa-d0df-4a09-af22-18c9e7d104ae",
   "metadata": {},
   "outputs": [],
   "source": []
  }
 ],
 "metadata": {
  "kernelspec": {
   "display_name": "Python 3 (ipykernel)",
   "language": "python",
   "name": "python3"
  },
  "language_info": {
   "codemirror_mode": {
    "name": "ipython",
    "version": 3
   },
   "file_extension": ".py",
   "mimetype": "text/x-python",
   "name": "python",
   "nbconvert_exporter": "python",
   "pygments_lexer": "ipython3",
   "version": "3.12.4"
  }
 },
 "nbformat": 4,
 "nbformat_minor": 5
}
