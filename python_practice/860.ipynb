{
 "cells": [
  {
   "cell_type": "raw",
   "id": "01ccd73e-2522-4689-941f-cf744a4e0059",
   "metadata": {},
   "source": [
    "Input: bills = [5,5,5,10,20]\n",
    "Output: true\n",
    "\n",
    "Input: bills = [5,5,10,10,20]\n",
    "Output: false"
   ]
  },
  {
   "cell_type": "code",
   "execution_count": 7,
   "id": "732be69e-7ab0-447a-8fdc-970f6ab13744",
   "metadata": {},
   "outputs": [],
   "source": [
    "class Solution(object):\n",
    "    def lemonadeChange(self, bills):\n",
    "        bill_5 = 0\n",
    "        bill_10 = 0\n",
    "        ## greedy\n",
    "        for bill in bills:\n",
    "            if bill == 5:\n",
    "                bill_5 += 1 \n",
    "            elif bill == 10: \n",
    "                bill_10 += 1\n",
    "                bill_5 -= 1 \n",
    "            elif bill == 20:\n",
    "                if bill_10 > 0:\n",
    "                    bill_10 -= 1 \n",
    "                    bill_5 -= 1\n",
    "                else: \n",
    "                    bill_5 -= 3\n",
    "            if bill_5 < 0 or bill_10 < 0:\n",
    "                return False\n",
    "        return True        "
   ]
  },
  {
   "cell_type": "code",
   "execution_count": 8,
   "id": "4bae09d0-73d9-4509-9904-885d6cfceea8",
   "metadata": {},
   "outputs": [
    {
     "data": {
      "text/plain": [
       "True"
      ]
     },
     "execution_count": 8,
     "metadata": {},
     "output_type": "execute_result"
    }
   ],
   "source": [
    "Solution().lemonadeChange([5,5,5,10,20])"
   ]
  },
  {
   "cell_type": "code",
   "execution_count": 9,
   "id": "a3b93a4b-489c-44d8-a6d8-dd81ae5cb3de",
   "metadata": {},
   "outputs": [
    {
     "data": {
      "text/plain": [
       "False"
      ]
     },
     "execution_count": 9,
     "metadata": {},
     "output_type": "execute_result"
    }
   ],
   "source": [
    "Solution().lemonadeChange([5,5,10,10,20])"
   ]
  },
  {
   "cell_type": "code",
   "execution_count": null,
   "id": "27bb1c71-5966-4d99-bcf8-7c6b3e72ff6f",
   "metadata": {},
   "outputs": [],
   "source": []
  }
 ],
 "metadata": {
  "kernelspec": {
   "display_name": "Python 3 (ipykernel)",
   "language": "python",
   "name": "python3"
  },
  "language_info": {
   "codemirror_mode": {
    "name": "ipython",
    "version": 3
   },
   "file_extension": ".py",
   "mimetype": "text/x-python",
   "name": "python",
   "nbconvert_exporter": "python",
   "pygments_lexer": "ipython3",
   "version": "3.12.4"
  }
 },
 "nbformat": 4,
 "nbformat_minor": 5
}
