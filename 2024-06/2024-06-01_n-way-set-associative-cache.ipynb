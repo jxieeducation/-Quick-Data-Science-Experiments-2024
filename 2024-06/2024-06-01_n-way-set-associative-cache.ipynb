{
 "cells": [
  {
   "cell_type": "code",
   "execution_count": 16,
   "id": "d6a3db98-8c1b-4426-95e8-f78acce69956",
   "metadata": {},
   "outputs": [],
   "source": [
    "class CacheBlock:\n",
    "    def __init__(self, tag, data):\n",
    "        self.tag = tag\n",
    "        self.data = data\n",
    "        self.valid = True\n",
    "\n",
    "class NWaySetAssociativeCache:\n",
    "    def __init__(self, cache_size, block_size, ways):\n",
    "        self.cache_size = cache_size\n",
    "        self.block_size = block_size\n",
    "        self.ways = ways\n",
    "        self.sets = cache_size // (block_size * ways)\n",
    "        # print(self.sets)\n",
    "        self.cache = [[None for _ in range(ways)] for _ in range(self.sets)]\n",
    "        # print(self.cache, len(self.cache))\n",
    "\n",
    "    def _index_and_tag(self, address):\n",
    "        block_number = address // self.block_size\n",
    "        index = block_number % self.sets\n",
    "        tag = block_number // self.sets\n",
    "        # print(block_number, self.sets)\n",
    "        # print(block_number, index, tag)\n",
    "        return index, tag\n",
    "\n",
    "    def access(self, address, data=None):\n",
    "        index, tag = self._index_and_tag(address)\n",
    "        set_ = self.cache[index]\n",
    "        print(index, tag, set_)\n",
    "\n",
    "        print(\"retrieving\")\n",
    "        # Search for the block in the set\n",
    "        for block in set_:\n",
    "            if block and block.tag == tag:\n",
    "                if data is not None:\n",
    "                    block.data = data\n",
    "                return block.data  # Cache hit\n",
    "\n",
    "        print(\"setting\")\n",
    "        # Cache miss: find an empty slot or replace using a policy (e.g., LRU)\n",
    "        for i in range(self.ways):\n",
    "            if not set_[i]:\n",
    "                set_[i] = CacheBlock(tag, data)\n",
    "                return None  # Cache miss\n",
    "\n",
    "        print(\"replace\")\n",
    "        # Replace the first block (simple replacement policy)\n",
    "        set_[0] = CacheBlock(tag, data)\n",
    "        return None  # Cache miss"
   ]
  },
  {
   "cell_type": "code",
   "execution_count": 18,
   "id": "1a6cf223-eb6d-483b-bf62-08be90d784ac",
   "metadata": {},
   "outputs": [
    {
     "name": "stdout",
     "output_type": "stream",
     "text": [
      "1 0 [None, None, None, None]\n",
      "retrieving\n",
      "setting\n",
      "None\n",
      "again!\n",
      "1 0 [<__main__.CacheBlock object at 0x107b1b440>, None, None, None]\n",
      "retrieving\n",
      "1 0 [<__main__.CacheBlock object at 0x107b1b440>, None, None, None]\n",
      "retrieving\n",
      "A\n"
     ]
    }
   ],
   "source": [
    "# Example usage:\n",
    "cache = NWaySetAssociativeCache(cache_size=1024, block_size=64, ways=4)\n",
    "print(cache.access(100))  # Miss\n",
    "print(\"again!\")\n",
    "cache.access(100, data='A')  # Insert\n",
    "print(cache.access(100))  # Hit, returns 'A'"
   ]
  },
  {
   "cell_type": "code",
   "execution_count": null,
   "id": "a71135fb-05ab-4cad-8ddc-4529d4bfea06",
   "metadata": {},
   "outputs": [],
   "source": []
  },
  {
   "cell_type": "code",
   "execution_count": 43,
   "id": "c3fe76cc-7c1a-4855-a578-9ce5b3ffeb21",
   "metadata": {},
   "outputs": [],
   "source": [
    "from collections import deque\n",
    "\n",
    "class NWaySetAssociativeCacheLRU:\n",
    "    def __init__(self, cache_size, block_size, ways):\n",
    "        self.cache_size = cache_size\n",
    "        self.block_size = block_size\n",
    "        self.ways = ways\n",
    "        self.sets = cache_size // (block_size * ways)\n",
    "        print(self.sets)\n",
    "        self.cache = [[None for _ in range(ways)] for _ in range(self.sets)]\n",
    "        self.lru = [deque(maxlen=ways) for _ in range(self.sets)]\n",
    "        print(self.cache)\n",
    "\n",
    "    def _index_and_tag(self, address):\n",
    "        block_number = address // self.block_size\n",
    "        print(block_number) # 3  \n",
    "        index = block_number % self.sets ## which n-way you are at  ## 3 \n",
    "        tag = block_number // self.sets ## which set out of sets of cache  ## 0 \n",
    "        return index, tag\n",
    "\n",
    "    def access(self, address, data=None):\n",
    "        index, tag = self._index_and_tag(address) ## 1, 0\n",
    "        set_ = self.cache[index]\n",
    "        print(index, tag, set_)\n",
    "        # print\n",
    "        lru_queue = self.lru[index]\n",
    "\n",
    "        # Search for the block in the set\n",
    "        for i, block in enumerate(set_):\n",
    "            if block and block.tag == tag:\n",
    "                if data is not None:\n",
    "                    block.data = data\n",
    "                lru_queue.remove(i) ## [1, 2, 3, 4] \n",
    "                lru_queue.append(i)\n",
    "                return block.data  # Cache hit\n",
    "\n",
    "        # Cache miss: find an empty slot or replace using LRU\n",
    "        for i in range(self.ways):\n",
    "            if not set_[i]:\n",
    "                set_[i] = CacheBlock(tag, data)\n",
    "                lru_queue.append(i)\n",
    "                return None  # Cache miss\n",
    "\n",
    "        # Replace the LRU block\n",
    "        lru_index = lru_queue.popleft()\n",
    "        set_[lru_index] = CacheBlock(tag, data)\n",
    "        lru_queue.append(lru_index)\n",
    "        return None  # Cache miss"
   ]
  },
  {
   "cell_type": "code",
   "execution_count": 46,
   "id": "60dd8c88-6161-4a93-b0c2-e76b5fc2468e",
   "metadata": {},
   "outputs": [
    {
     "name": "stdout",
     "output_type": "stream",
     "text": [
      "8\n",
      "[[None, None], [None, None], [None, None], [None, None], [None, None], [None, None], [None, None], [None, None]]\n",
      "3\n",
      "3 0 [None, None]\n",
      "None\n"
     ]
    }
   ],
   "source": [
    "# Example usage:\n",
    "cache = NWaySetAssociativeCacheLRU(cache_size=1024, block_size=64, ways=2) ## 8 sets of 2-way cache \n",
    "print(cache.access(64 * 3 + 1))  # Miss\n",
    "# cache.access(100, data='A')  # Insert\n",
    "# print(cache.access(100))  # Hit, returns 'A'\n"
   ]
  },
  {
   "cell_type": "code",
   "execution_count": null,
   "id": "cbc07ef3-8ffa-4f55-933c-a0566fbb505b",
   "metadata": {},
   "outputs": [],
   "source": []
  }
 ],
 "metadata": {
  "kernelspec": {
   "display_name": "Python 3 (ipykernel)",
   "language": "python",
   "name": "python3"
  },
  "language_info": {
   "codemirror_mode": {
    "name": "ipython",
    "version": 3
   },
   "file_extension": ".py",
   "mimetype": "text/x-python",
   "name": "python",
   "nbconvert_exporter": "python",
   "pygments_lexer": "ipython3",
   "version": "3.12.3"
  }
 },
 "nbformat": 4,
 "nbformat_minor": 5
}
