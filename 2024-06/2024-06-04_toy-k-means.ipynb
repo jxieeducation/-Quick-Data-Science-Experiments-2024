{
 "cells": [
  {
   "cell_type": "code",
   "execution_count": 4,
   "id": "86563ff7-fa45-480d-b119-fc2c5397bbff",
   "metadata": {},
   "outputs": [
    {
     "name": "stdout",
     "output_type": "stream",
     "text": [
      "centroids:  (2, 2)\n",
      "centroids:  (2, 2)\n",
      "centroids:  (2, 2)\n",
      "Centroids:\n",
      "[[1.16666667 1.46666667]\n",
      " [7.33333333 9.        ]]\n",
      "Labels:\n",
      "[0 0 1 1 0 1]\n"
     ]
    }
   ],
   "source": [
    "import numpy as np\n",
    "\n",
    "def initialize_centroids(X, k):\n",
    "    # Randomly choose k data points as initial centroids\n",
    "    indices = np.random.choice(X.shape[0], k, replace=False)\n",
    "    return X[indices]\n",
    "\n",
    "def assign_clusters(X, centroids):\n",
    "    # Assign each data point to the nearest centroid\n",
    "    distances = np.linalg.norm(X[:, np.newaxis] - centroids, axis=2)\n",
    "    return np.argmin(distances, axis=1)\n",
    "\n",
    "def update_centroids(X, labels, k):\n",
    "    # Calculate new centroids as the mean of data points in each cluster\n",
    "    # print(X[labels == i].mean(axis=0)\n",
    "    centroids = np.array([X[labels == i].mean(axis=0) for i in range(k)])\n",
    "    print(\"centroids: \", centroids.shape)\n",
    "    return centroids\n",
    "\n",
    "def kmeans(X, k, max_iters=100, tol=1e-4):\n",
    "    centroids = initialize_centroids(X, k)\n",
    "    for i in range(max_iters):\n",
    "        old_centroids = centroids\n",
    "        labels = assign_clusters(X, centroids)\n",
    "        centroids = update_centroids(X, labels, k)\n",
    "        # Check for convergence\n",
    "        if np.all(np.linalg.norm(centroids - old_centroids, axis=1) < tol):\n",
    "            break\n",
    "    return centroids, labels\n",
    "\n",
    "# Example usage\n",
    "if __name__ == \"__main__\":\n",
    "    # Sample data\n",
    "    X = np.array([[1.0, 2.0], [1.5, 1.8], [5.0, 8.0], [8.0, 8.0], [1.0, 0.6], [9.0, 11.0]])\n",
    "\n",
    "    # Perform K-Means clustering\n",
    "    k = 2\n",
    "    centroids, labels = kmeans(X, k)\n",
    "\n",
    "    print(\"Centroids:\")\n",
    "    print(centroids)\n",
    "    print(\"Labels:\")\n",
    "    print(labels)\n"
   ]
  },
  {
   "cell_type": "code",
   "execution_count": 11,
   "id": "d09b0734-f1dd-45c6-a998-183751469b39",
   "metadata": {},
   "outputs": [
    {
     "data": {
      "text/plain": [
       "array([19, 18, 17, 16, 15, 14, 13, 12, 11, 10,  9,  8,  7,  6,  5,  4,  3,\n",
       "        2,  1,  0])"
      ]
     },
     "execution_count": 11,
     "metadata": {},
     "output_type": "execute_result"
    }
   ],
   "source": [
    "arr = np.arange(0, 20)\n",
    "arr = arr[::-1]\n",
    "arr\n",
    "# np.argmin(distances, axis=1)"
   ]
  },
  {
   "cell_type": "code",
   "execution_count": 15,
   "id": "cbbcd8e2-f2f6-454a-92fa-7ecea24f77cf",
   "metadata": {},
   "outputs": [
    {
     "data": {
      "text/plain": [
       "array([19, 18, 17, 16, 15])"
      ]
     },
     "execution_count": 15,
     "metadata": {},
     "output_type": "execute_result"
    }
   ],
   "source": [
    "# arr[np.newaxis, :]\n",
    "n = arr.reshape(4, 5)\n",
    "np.max(n, axis=0)"
   ]
  },
  {
   "cell_type": "code",
   "execution_count": 19,
   "id": "50a405ca-a40b-4f0b-9a2e-33efcb0a2bed",
   "metadata": {},
   "outputs": [
    {
     "data": {
      "text/plain": [
       "array([3, 3, 3, 3, 3])"
      ]
     },
     "execution_count": 19,
     "metadata": {},
     "output_type": "execute_result"
    }
   ],
   "source": [
    "np.argmin(n, axis=0)"
   ]
  },
  {
   "cell_type": "code",
   "execution_count": 21,
   "id": "47b057e4-fef0-4bf8-a327-a56bddeec628",
   "metadata": {},
   "outputs": [
    {
     "data": {
      "text/plain": [
       "array([[19, 18, 17, 16, 15],\n",
       "       [14, 13, 12, 11, 10],\n",
       "       [ 9,  8,  7,  6,  5],\n",
       "       [ 4,  3,  2,  1,  0]])"
      ]
     },
     "execution_count": 21,
     "metadata": {},
     "output_type": "execute_result"
    }
   ],
   "source": [
    "n.squeeze()"
   ]
  },
  {
   "cell_type": "code",
   "execution_count": null,
   "id": "96211ecf-4bd5-421c-aab0-23025dafbc4c",
   "metadata": {},
   "outputs": [],
   "source": []
  }
 ],
 "metadata": {
  "kernelspec": {
   "display_name": "Python 3 (ipykernel)",
   "language": "python",
   "name": "python3"
  },
  "language_info": {
   "codemirror_mode": {
    "name": "ipython",
    "version": 3
   },
   "file_extension": ".py",
   "mimetype": "text/x-python",
   "name": "python",
   "nbconvert_exporter": "python",
   "pygments_lexer": "ipython3",
   "version": "3.12.3"
  }
 },
 "nbformat": 4,
 "nbformat_minor": 5
}
