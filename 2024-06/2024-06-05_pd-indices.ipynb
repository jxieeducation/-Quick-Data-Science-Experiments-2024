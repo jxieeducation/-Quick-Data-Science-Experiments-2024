{
 "cells": [
  {
   "cell_type": "code",
   "execution_count": 1,
   "id": "a6428921-b7e9-4596-a780-d5bf17bd3553",
   "metadata": {},
   "outputs": [
    {
     "name": "stdout",
     "output_type": "stream",
     "text": [
      "Original DataFrame:\n",
      "        State           City  Population   Area\n",
      "0  California  San Francisco      883305  121.4\n",
      "1  California    Los Angeles     3980400  503.0\n",
      "2       Texas         Austin      964254  305.1\n",
      "3       Texas        Houston     2328000  637.4\n"
     ]
    }
   ],
   "source": [
    "import pandas as pd\n",
    "\n",
    "# Creating a sample DataFrame\n",
    "data = {\n",
    "    'State': ['California', 'California', 'Texas', 'Texas'],\n",
    "    'City': ['San Francisco', 'Los Angeles', 'Austin', 'Houston'],\n",
    "    'Population': [883305, 3980400, 964254, 2328000],\n",
    "    'Area': [121.4, 503, 305.1, 637.4]\n",
    "}\n",
    "\n",
    "df = pd.DataFrame(data)\n",
    "print(\"Original DataFrame:\")\n",
    "print(df)\n"
   ]
  },
  {
   "cell_type": "code",
   "execution_count": 2,
   "id": "7d8e68a2-a5bc-4fa2-b265-b59291682ec8",
   "metadata": {},
   "outputs": [
    {
     "name": "stdout",
     "output_type": "stream",
     "text": [
      "\n",
      "DataFrame with Multi-Level Indices:\n",
      "                          Population   Area\n",
      "State      City                            \n",
      "California San Francisco      883305  121.4\n",
      "           Los Angeles       3980400  503.0\n",
      "Texas      Austin             964254  305.1\n",
      "           Houston           2328000  637.4\n"
     ]
    }
   ],
   "source": [
    "df_multi_index = df.set_index(['State', 'City'])\n",
    "print(\"\\nDataFrame with Multi-Level Indices:\")\n",
    "print(df_multi_index)"
   ]
  },
  {
   "cell_type": "code",
   "execution_count": 9,
   "id": "47cbcb0d-d7b3-4cf7-a4fa-ac887e465c23",
   "metadata": {},
   "outputs": [
    {
     "name": "stdout",
     "output_type": "stream",
     "text": [
      "\n",
      "Population of Austin, Texas:\n",
      "964254\n"
     ]
    }
   ],
   "source": [
    "# Accessing data with multi-level indices\n",
    "print(\"\\nPopulation of Austin, Texas:\")\n",
    "print(df_multi_index.loc[('Texas', 'Austin'), 'Population'])\n",
    "# df_multi_index.loc[state=('California')]"
   ]
  },
  {
   "cell_type": "code",
   "execution_count": 13,
   "id": "6d11417c-06e4-4e00-ad58-edbeed12be8e",
   "metadata": {},
   "outputs": [],
   "source": [
    "idx = pd.IndexSlice\n",
    "df_multi_index.loc[idx['Texas', 'Austin'], 'Area']=1"
   ]
  },
  {
   "cell_type": "code",
   "execution_count": 14,
   "id": "72bcf6b7-34fa-4953-8324-833dbb592800",
   "metadata": {},
   "outputs": [
    {
     "data": {
      "text/plain": [
       "Population    964254.0\n",
       "Area               1.0\n",
       "Name: (Texas, Austin), dtype: float64"
      ]
     },
     "execution_count": 14,
     "metadata": {},
     "output_type": "execute_result"
    }
   ],
   "source": [
    "df_multi_index.loc[idx['Texas', 'Austin']]"
   ]
  },
  {
   "cell_type": "code",
   "execution_count": 17,
   "id": "db91b075-d5a2-445d-be11-6e2f9dad5762",
   "metadata": {},
   "outputs": [
    {
     "data": {
      "text/plain": [
       "array([2, 2, 2, 1, 2, 2])"
      ]
     },
     "execution_count": 17,
     "metadata": {},
     "output_type": "execute_result"
    }
   ],
   "source": [
    "import numpy as np\n",
    "arr = np.arange(0,6)\n",
    "np.where(arr == 3, 1, 2)"
   ]
  },
  {
   "cell_type": "code",
   "execution_count": 25,
   "id": "64c4e163-eaa5-4d6f-8436-0f3fbed334a6",
   "metadata": {},
   "outputs": [
    {
     "name": "stdout",
     "output_type": "stream",
     "text": [
      "Index: ('California', 'San Francisco')\n",
      "Row Data:\n",
      " Population    883305.0\n",
      "Area             121.4\n",
      "Name: (California, San Francisco), dtype: float64\n",
      "Area: 121.4\n",
      "---\n",
      "Index: ('California', 'Los Angeles')\n",
      "Row Data:\n",
      " Population    3980400.0\n",
      "Area              503.0\n",
      "Name: (California, Los Angeles), dtype: float64\n",
      "Area: 503.0\n",
      "---\n",
      "Index: ('Texas', 'Austin')\n",
      "Row Data:\n",
      " Population    964254.0\n",
      "Area               1.0\n",
      "Name: (Texas, Austin), dtype: float64\n",
      "Area: 1.0\n",
      "---\n",
      "Index: ('Texas', 'Houston')\n",
      "Row Data:\n",
      " Population    2328000.0\n",
      "Area              637.4\n",
      "Name: (Texas, Houston), dtype: float64\n",
      "Area: 637.4\n",
      "---\n"
     ]
    }
   ],
   "source": [
    "for idx, row in df_multi_index.iterrows():\n",
    "    print(\"Index:\", idx)\n",
    "    print(\"Row Data:\\n\", row)\n",
    "    print(\"Area:\", row[\"Area\"])\n",
    "    print(\"---\")"
   ]
  },
  {
   "cell_type": "code",
   "execution_count": null,
   "id": "d707ca63-c545-43d6-962f-fd3e841be01f",
   "metadata": {},
   "outputs": [],
   "source": []
  }
 ],
 "metadata": {
  "kernelspec": {
   "display_name": "Python 3 (ipykernel)",
   "language": "python",
   "name": "python3"
  },
  "language_info": {
   "codemirror_mode": {
    "name": "ipython",
    "version": 3
   },
   "file_extension": ".py",
   "mimetype": "text/x-python",
   "name": "python",
   "nbconvert_exporter": "python",
   "pygments_lexer": "ipython3",
   "version": "3.12.3"
  }
 },
 "nbformat": 4,
 "nbformat_minor": 5
}
